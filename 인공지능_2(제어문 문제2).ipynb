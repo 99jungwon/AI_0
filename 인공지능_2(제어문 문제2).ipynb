{
 "cells": [
  {
   "cell_type": "markdown",
   "metadata": {
    "id": "qlfFvwIxu1dD"
   },
   "source": [
    "## float의 입력값을 받아 아래의 결과를 프린트하는 성적 계산기를 만들어라(if문 활용)\n",
    "* A: 90이상-100이하\n",
    "* B: 80이상-89이하\n",
    "* C: 70이상-79이하\n",
    "* D: 60이상-69이하\n",
    "* F: 60보다 낮으면"
   ]
  },
  {
   "cell_type": "code",
   "execution_count": 5,
   "metadata": {},
   "outputs": [
    {
     "name": "stdout",
     "output_type": "stream",
     "text": [
      "성적을 입력해주세요: 59\n",
      "F학점입니다.\n"
     ]
    }
   ],
   "source": [
    "grade = float(input(\"성적을 입력해주세요: \"))\n",
    "\n",
    "if grade >= 90:\n",
    "    print(\"A학점입니다.\")\n",
    "elif grade >= 80:\n",
    "    print(\"B학점입니다.\")\n",
    "elif grade >= 70:\n",
    "    print(\"C학점입니다.\")\n",
    "elif grade >= 60:\n",
    "    print(\"D학점입니다.\")\n",
    "elif grade < 60:\n",
    "    print(\"F학점입니다.\")\n",
    "else:\n",
    "    print(\"다시 입력해주세요.\")"
   ]
  },
  {
   "cell_type": "markdown",
   "metadata": {
    "id": "jGix8ysDqYGb"
   },
   "source": [
    "## 3, 6, 8, 9, 12, 15를 리스트로 만들고 리스트의 값들중 2로 나눴을때 나머지가 0인 숫자들을 하나의 리스트에 저장하고 이를 프린트하시오(for, if문 사용)"
   ]
  },
  {
   "cell_type": "code",
   "execution_count": 6,
   "metadata": {
    "id": "6JJf5JthiIAv"
   },
   "outputs": [
    {
     "name": "stdout",
     "output_type": "stream",
     "text": [
      "[6, 8, 12]\n"
     ]
    }
   ],
   "source": [
    "num = [3, 6, 8, 9, 12, 15]\n",
    "\n",
    "two = []\n",
    "for i in num:\n",
    "    if i % 2 ==0:\n",
    "        two.append(i)\n",
    "\n",
    "print(two)"
   ]
  },
  {
   "cell_type": "code",
   "execution_count": 10,
   "metadata": {},
   "outputs": [
    {
     "data": {
      "text/plain": [
       "6"
      ]
     },
     "execution_count": 10,
     "metadata": {},
     "output_type": "execute_result"
    }
   ],
   "source": [
    "len(num)"
   ]
  },
  {
   "cell_type": "markdown",
   "metadata": {
    "id": "VvW9_tKyuPH-"
   },
   "source": [
    "## 3, 6, 8, 9, 12, 15를 리스트로 만들고 리스트의 값들중 2로 나눴을때 나머지가 0인 숫자들을 하나의 리스트에 저장하고 이를 프린트하시오(while, if문 사용)"
   ]
  },
  {
   "cell_type": "code",
   "execution_count": 15,
   "metadata": {
    "colab": {
     "base_uri": "https://localhost:8080/"
    },
    "id": "7fS1BrUhuJRz",
    "outputId": "aaaf655f-b1b3-4f96-f62f-ac9425667268"
   },
   "outputs": [
    {
     "name": "stdout",
     "output_type": "stream",
     "text": [
      "[6, 8, 12]\n"
     ]
    }
   ],
   "source": [
    "num = [3, 6, 8, 9, 12, 15]\n",
    "\n",
    "two = []\n",
    "i = 0\n",
    "while i < len(num):\n",
    "    if num[i] % 2 ==0:\n",
    "        two.append(num[i])\n",
    "    i = i+1\n",
    "        \n",
    "print(two)"
   ]
  },
  {
   "cell_type": "markdown",
   "metadata": {
    "id": "lE73l5h_sDjq"
   },
   "source": [
    "## 6, 12, 18, 20, 24, 30의 값을 하나의 리스트로 만들고 2의 배수와 3의 배수에 모두 해당하는 값을 하나의 리스트에 저장해 프린트하시오"
   ]
  },
  {
   "cell_type": "code",
   "execution_count": 17,
   "metadata": {},
   "outputs": [
    {
     "name": "stdout",
     "output_type": "stream",
     "text": [
      "[6, 12, 18, 24, 30]\n"
     ]
    }
   ],
   "source": [
    "num = [6, 12, 18, 20, 24, 30]\n",
    "ok = []\n",
    "\n",
    "for i in num:\n",
    "    if (i % 2 == 0 and i % 3 == 0):\n",
    "        ok.append(i)\n",
    "\n",
    "print(ok)"
   ]
  },
  {
   "cell_type": "markdown",
   "metadata": {
    "id": "QQ2XAzCktta0"
   },
   "source": [
    "## 3, 6, 8, 9, 12, 15의 값을 하나의 리스트에 저장하고 5보다 큰 값을 따로 하나의 리스트에 저장해 프린트하시오"
   ]
  },
  {
   "cell_type": "code",
   "execution_count": 18,
   "metadata": {},
   "outputs": [
    {
     "name": "stdout",
     "output_type": "stream",
     "text": [
      "[6, 8, 9, 12, 15]\n"
     ]
    }
   ],
   "source": [
    "num = [3, 6, 8, 9, 12, 15]\n",
    "five = []\n",
    "\n",
    "for i in num:\n",
    "    if i > 5:\n",
    "        five.append(i)\n",
    "print(five)"
   ]
  },
  {
   "cell_type": "markdown",
   "metadata": {
    "id": "E2XkCWNuq9kH"
   },
   "source": [
    "## apple, banana, orange, pear, kiwi를 리스트에 저장하고, 단어의 길이가 5이상인 단어들만 하나의 리스트에 저장하고 이를 프린트하시오(for, if문 사용)"
   ]
  },
  {
   "cell_type": "code",
   "execution_count": 20,
   "metadata": {
    "colab": {
     "base_uri": "https://localhost:8080/"
    },
    "id": "ykjKWGAbiSr_",
    "outputId": "04c1beab-0644-4c4b-e12b-a8614616110c"
   },
   "outputs": [
    {
     "name": "stdout",
     "output_type": "stream",
     "text": [
      "['banana', 'orange']\n"
     ]
    }
   ],
   "source": [
    "fruits = [\"apple\", \"banana\", \"orange\", \"pear\", \"kiwi\"]\n",
    "over_five = []\n",
    "\n",
    "for i in fruits:\n",
    "    if len(i) > 5:\n",
    "        over_five.append(i)\n",
    "print(over_five)"
   ]
  },
  {
   "cell_type": "markdown",
   "metadata": {
    "id": "t9yb17fntS5I"
   },
   "source": [
    "## apple, banana, orange, pear, kiwi를 하나의 리스트로 만들고 e가 포함된 단어들만 따로 하나의 리스트에 저장해 프린트하시오(for, if문 사용)"
   ]
  },
  {
   "cell_type": "code",
   "execution_count": 22,
   "metadata": {
    "colab": {
     "base_uri": "https://localhost:8080/"
    },
    "id": "d489vUvgiZIA",
    "outputId": "761b22b6-b955-48bf-98e1-69616aee8fcf"
   },
   "outputs": [
    {
     "name": "stdout",
     "output_type": "stream",
     "text": [
      "['apple', 'orange', 'pear']\n"
     ]
    }
   ],
   "source": [
    "fruits = [\"apple\", \"banana\", \"orange\", \"pear\", \"kiwi\"]\n",
    "e_fruits = []\n",
    "\n",
    "for i in fruits:\n",
    "    if \"e\" in i:\n",
    "        e_fruits.append(i)\n",
    "\n",
    "print(e_fruits)"
   ]
  },
  {
   "cell_type": "markdown",
   "metadata": {
    "id": "XACAVhx0srPS"
   },
   "source": [
    "## John, Jane, David, Jessica, Josh를 리스트에 저장하고, 이름 처음 시작하는 단어가 J인 이름만 하나의 리스트에 저장하고 이를 프린트하시오(for, if문 사용)"
   ]
  },
  {
   "cell_type": "code",
   "execution_count": 27,
   "metadata": {
    "colab": {
     "base_uri": "https://localhost:8080/"
    },
    "id": "95uX5YnVshha",
    "outputId": "c00b0da6-a57a-42f1-8dee-c1ef04fb4b28"
   },
   "outputs": [
    {
     "name": "stdout",
     "output_type": "stream",
     "text": [
      "['John', 'Jane', 'Jessica', 'Josh']\n"
     ]
    }
   ],
   "source": [
    "name = [\"John\", \"Jane\", \"David\", \"Jessica\", \"Josh\"]\n",
    "j_name = []\n",
    "\n",
    "for i in name:\n",
    "    if i[0] == \"J\":\n",
    "        j_name.append(i)\n",
    "print(j_name)"
   ]
  },
  {
   "cell_type": "markdown",
   "metadata": {
    "id": "ekfPczCUp3TX"
   },
   "source": [
    "## 숫자 2, 14, 5, 7, 11, 9, 12, 15를 리스트로 만들고 리스트에서 10보다 크거나 2로 나눴을때 나머지가 1이 나오는 숫자만 프린트하시오(while, if 사용)"
   ]
  },
  {
   "cell_type": "code",
   "execution_count": 32,
   "metadata": {
    "colab": {
     "base_uri": "https://localhost:8080/"
    },
    "id": "kNXma0wNLcGu",
    "outputId": "63fd8a44-0422-4be4-eef2-f0e3a89de8cd"
   },
   "outputs": [
    {
     "name": "stdout",
     "output_type": "stream",
     "text": [
      "11\n",
      "15\n"
     ]
    }
   ],
   "source": [
    "num = [2, 14, 5, 7, 11, 9, 12, 15]\n",
    "ok = []\n",
    "\n",
    "i = 0\n",
    "while i < len(num):\n",
    "    if num[i] > 10 and num[i] % 2 == 1:\n",
    "        print(num[i])\n",
    "    i += 1"
   ]
  },
  {
   "cell_type": "markdown",
   "metadata": {
    "id": "MRi4W3AqxJ3Z"
   },
   "source": [
    "## 하나의 빈 리스트를 만들고 input값을 넣었을때 이 input값이 양수이면 input값을 빈 리스트에 추가하고 음수이면 동작을 끝내고 리스트에 추가된 값들을 더해 프린트해라(while, if, break사용)\n",
    "\n",
    "* 리스트의 모든 숫자를 더하는 함수 sum(리스트)"
   ]
  },
  {
   "cell_type": "code",
   "execution_count": 35,
   "metadata": {
    "colab": {
     "base_uri": "https://localhost:8080/"
    },
    "id": "CA9zS_yZwFiT",
    "outputId": "7093d3b5-d6a1-47be-9fad-35b0e4d93bc1"
   },
   "outputs": [
    {
     "name": "stdout",
     "output_type": "stream",
     "text": [
      "정수를 입력해주세요.50\n",
      "정수를 입력해주세요.-1\n",
      "49\n"
     ]
    }
   ],
   "source": [
    "num = []\n",
    "\n",
    "while True:\n",
    "    input_num = int(input(\"정수를 입력해주세요.\"))\n",
    "    \n",
    "    if input_num > 0:\n",
    "        num.append(input_num)\n",
    "    elif input_num < 0:\n",
    "        num.append(input_num)\n",
    "        print(sum(num))\n",
    "        break"
   ]
  },
  {
   "cell_type": "markdown",
   "metadata": {
    "id": "Mr5pvs5IyuRU"
   },
   "source": [
    "## password라는 변수에 특정 문자를 부여하고 해당 input()함수를 활용해 password에 해당되는 문자가 정확하게 입력 되었을 때, 로그인되었습니다. 라는 문장을 프린트후 while문을 종료해라 만약에 문자가 정확하게 입력되지 않으면 잘못된 패스워드 입니다. 라는 문장을 프린트해라(while, if, break 사용)"
   ]
  },
  {
   "cell_type": "code",
   "execution_count": 37,
   "metadata": {},
   "outputs": [
    {
     "name": "stdout",
     "output_type": "stream",
     "text": [
      "패스워드를 입력해 주세요: ㅇㄴㄷ\n",
      "잘못된 패스워드입니다.\n",
      "패스워드를 입력해 주세요: ㅂㅈㄷ\n",
      "잘못된 패스워드입니다.\n",
      "패스워드를 입력해 주세요: seo\n",
      "로그인되었습니다.\n"
     ]
    }
   ],
   "source": [
    "while True:\n",
    "    password = input(\"패스워드를 입력해 주세요: \")\n",
    "    if password == \"seo\":\n",
    "        print(\"로그인되었습니다.\")\n",
    "        break\n",
    "    else:\n",
    "        print(\"잘못된 패스워드입니다.\")"
   ]
  }
 ],
 "metadata": {
  "colab": {
   "provenance": []
  },
  "kernelspec": {
   "display_name": "Python 3 (ipykernel)",
   "language": "python",
   "name": "python3"
  },
  "language_info": {
   "codemirror_mode": {
    "name": "ipython",
    "version": 3
   },
   "file_extension": ".py",
   "mimetype": "text/x-python",
   "name": "python",
   "nbconvert_exporter": "python",
   "pygments_lexer": "ipython3",
   "version": "3.9.13"
  }
 },
 "nbformat": 4,
 "nbformat_minor": 1
}
