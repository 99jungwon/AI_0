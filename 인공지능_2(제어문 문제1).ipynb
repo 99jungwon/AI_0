{
 "cells": [
  {
   "cell_type": "markdown",
   "metadata": {
    "id": "RxLgKtG8TXc8"
   },
   "source": [
    "## 100m 달리기 아래는 달리기 성적 기록이다. 이때 9초 이상 11초 미만 합격, 11초 이상 13초 미만 재시험, 13초 초과 불합격을 프린트하시오\n",
    "\n",
    "* input을 활용해 만들기\n",
    "* 9, 10, 11, 12, 15, 25, 13, 12, 9.5, 10.6, 11.2, 9.5"
   ]
  },
  {
   "cell_type": "code",
   "execution_count": 26,
   "metadata": {},
   "outputs": [
    {
     "name": "stdout",
     "output_type": "stream",
     "text": [
      "기록을 입력해주세요: 11.5\n",
      "재시험\n"
     ]
    }
   ],
   "source": [
    "record = float(input(\"기록을 입력해주세요: \"))\n",
    "if record >= 9 and record < 11:\n",
    "    print(\"합격\")\n",
    "elif record >= 11 and record < 13:\n",
    "    print(\"재시험\")\n",
    "elif record >= 13:\n",
    "    print(\"불합격\")\n",
    "else:\n",
    "    print(\"시간을 입력해주세요\")"
   ]
  },
  {
   "cell_type": "code",
   "execution_count": 13,
   "metadata": {
    "colab": {
     "base_uri": "https://localhost:8080/"
    },
    "id": "cEZSQ47bTs1p",
    "outputId": "81344c18-dd3c-4527-d995-0e9c7369b88d"
   },
   "outputs": [],
   "source": [
    "record = [9, 10, 11, 12, 15, 25, 13, 12, 9.5, 10.6, 11.2, 9.5]"
   ]
  },
  {
   "cell_type": "code",
   "execution_count": 14,
   "metadata": {},
   "outputs": [
    {
     "name": "stdout",
     "output_type": "stream",
     "text": [
      "합격\n",
      "합격\n",
      "재시험\n",
      "재시험\n",
      "불합격\n",
      "불합격\n",
      "불합격\n",
      "재시험\n",
      "합격\n",
      "합격\n",
      "재시험\n",
      "합격\n"
     ]
    }
   ],
   "source": [
    "for i in record:\n",
    "    if i >= 9 and i < 11:\n",
    "        print(\"합격\")\n",
    "    elif i >= 11 and i < 13:\n",
    "        print(\"재시험\")\n",
    "    elif i >= 13:\n",
    "        print(\"불합격\")"
   ]
  },
  {
   "cell_type": "markdown",
   "metadata": {
    "id": "O4tOdgJoG_78"
   },
   "source": [
    "## 짜장면 : 10,000원, 짬뽕 : 11,000원, 탕수육 22,000원, 볶음밥 : 9,000원을 딕셔너리 형태로 저장하고 메뉴 이름과 금액을 각각 다른 리스트에 저장해 두 개의 리스트로 만들어서 프린트하시오(for 문 사용)"
   ]
  },
  {
   "cell_type": "code",
   "execution_count": 49,
   "metadata": {
    "colab": {
     "base_uri": "https://localhost:8080/"
    },
    "id": "Viyiy3qWHAPq",
    "outputId": "a92b871e-b197-4d19-db2f-7a3b6268ab84"
   },
   "outputs": [],
   "source": [
    "menu = {\"짜장면\" : 10000, \"짬뽕\" : 11000, \"탕수육\" : 22000, \"볶음밥\" : 9000}"
   ]
  },
  {
   "cell_type": "code",
   "execution_count": 50,
   "metadata": {},
   "outputs": [],
   "source": [
    "names = []\n",
    "prices = []"
   ]
  },
  {
   "cell_type": "code",
   "execution_count": 51,
   "metadata": {},
   "outputs": [
    {
     "name": "stdout",
     "output_type": "stream",
     "text": [
      "['짜장면', '짬뽕', '탕수육', '볶음밥']\n"
     ]
    }
   ],
   "source": [
    "for i in menu.keys():\n",
    "    a = i\n",
    "    names.append(a)\n",
    "print(names)"
   ]
  },
  {
   "cell_type": "code",
   "execution_count": 52,
   "metadata": {},
   "outputs": [
    {
     "name": "stdout",
     "output_type": "stream",
     "text": [
      "[10000, 11000, 22000, 9000]\n"
     ]
    }
   ],
   "source": [
    "for i in menu.values():\n",
    "    a = i\n",
    "    prices.append(a)\n",
    "print(prices)"
   ]
  },
  {
   "cell_type": "markdown",
   "metadata": {
    "id": "akKsCOiQHSBr"
   },
   "source": [
    "## 10명의 학생이 있다 각 학생들은 중국집에서 한가지 메뉴를 주문 할 수 있다. 이때 위에서 만든 메뉴판을 활용해 각각 학생들이 한가지 메뉴를 입력하게 하고 메뉴들의 총 합을 더해서 프린트하시오(리스트를 활용해 문제해결)"
   ]
  },
  {
   "cell_type": "code",
   "execution_count": 55,
   "metadata": {
    "colab": {
     "base_uri": "https://localhost:8080/"
    },
    "id": "wFiQoBdBHJhE",
    "outputId": "6612368d-d62f-4b36-fc3c-1a4b7a712434"
   },
   "outputs": [
    {
     "name": "stdout",
     "output_type": "stream",
     "text": [
      "1번 학생의 주문 : 짜장면\n",
      "2번 학생의 주문 : 짜장면\n",
      "3번 학생의 주문 : 짜장면\n",
      "4번 학생의 주문 : 짜장면\n",
      "5번 학생의 주문 : 짜장면\n",
      "6번 학생의 주문 : 짜장면\n",
      "7번 학생의 주문 : 짜장면\n",
      "8번 학생의 주문 : 짜장면\n",
      "9번 학생의 주문 : 짜장면\n",
      "10번 학생의 주문 : 짜장면\n",
      "100000\n"
     ]
    }
   ],
   "source": [
    "total = []\n",
    "\n",
    "for i in range(1, 11):\n",
    "    pick= input(f\"{i}번 학생의 주문 : \")\n",
    "    if pick == \"짜장면\":\n",
    "        total.append(prices[0])\n",
    "    elif pick == \"짬뽕\":\n",
    "        total.append(prices[1])\n",
    "    elif pick == \"탕수육\":\n",
    "        total.append(prices[2])\n",
    "    elif pick == \"볶음밥\":\n",
    "        total.append(prices[3])\n",
    "\n",
    "print(f\"{sum(total)}\")"
   ]
  },
  {
   "cell_type": "markdown",
   "metadata": {},
   "source": [
    "## 10명의 학생이 있다 각 학생들은 중국집에서 한가지 메뉴를 주문 할 수 있다. 이때 위에서 만든 메뉴판을 활용해 각각 학생들이 한가지 메뉴를 입력하게 하고 메뉴들의 총 합을 더해서 프린트하시오(딕셔러니를 활용해 문제 해결)"
   ]
  },
  {
   "cell_type": "code",
   "execution_count": null,
   "metadata": {},
   "outputs": [],
   "source": []
  },
  {
   "cell_type": "markdown",
   "metadata": {
    "id": "BZ1PDMyXLomD"
   },
   "source": [
    "## while문을 사용해 1부터 10까지 프린트 하시오\n",
    "\n",
    "\n",
    "*   i+=1 이 의미는 i에 +1을 해서 이것을 다시 i에 저장해준다는 뜻\n"
   ]
  },
  {
   "cell_type": "code",
   "execution_count": null,
   "metadata": {
    "colab": {
     "base_uri": "https://localhost:8080/"
    },
    "id": "D6DuipeVKF6C",
    "outputId": "6f9fb832-7755-4a6b-c9c2-6508eba645a1"
   },
   "outputs": [
    {
     "name": "stdout",
     "output_type": "stream",
     "text": [
      "1\n",
      "2\n",
      "3\n",
      "4\n",
      "5\n",
      "6\n",
      "7\n",
      "8\n",
      "9\n",
      "10\n"
     ]
    }
   ],
   "source": []
  },
  {
   "cell_type": "markdown",
   "metadata": {
    "id": "U-vJrMajNInA"
   },
   "source": [
    "## while문을 사용해 1부터 10까지 프린트 하시오 이때 i가 3의 배수이면 while문을 멈춰주세요"
   ]
  },
  {
   "cell_type": "code",
   "execution_count": null,
   "metadata": {
    "colab": {
     "base_uri": "https://localhost:8080/"
    },
    "id": "Fnk5rg1pL0Vp",
    "outputId": "50113999-1839-40ce-eda0-87682f07ece5"
   },
   "outputs": [
    {
     "name": "stdout",
     "output_type": "stream",
     "text": [
      "1\n",
      "2\n"
     ]
    }
   ],
   "source": []
  },
  {
   "cell_type": "markdown",
   "metadata": {
    "id": "TpLyTHKzNST_"
   },
   "source": [
    "## while문을 사용해 1부터 10까지 프린트 하시오 이때 i가 3의 배수가 아닌값만 프린트 하시오"
   ]
  },
  {
   "cell_type": "code",
   "execution_count": null,
   "metadata": {
    "colab": {
     "base_uri": "https://localhost:8080/"
    },
    "id": "KK4mhkBLM61r",
    "outputId": "d396d4a1-cb64-4579-b2c4-f74093ca4189"
   },
   "outputs": [
    {
     "name": "stdout",
     "output_type": "stream",
     "text": [
      "1\n",
      "2\n",
      "4\n",
      "5\n",
      "7\n",
      "8\n",
      "10\n"
     ]
    }
   ],
   "source": []
  },
  {
   "cell_type": "markdown",
   "metadata": {
    "id": "vkrbGOjPNzrf"
   },
   "source": [
    "## 리스트에 라면, 3000, 생수, 2500, 과자,1500, 삼각김밥, 1000을 저장하고 리스트에서 메뉴명과 금액을 각각 따로 빼서 menu, money의 이름을 가지는 리스트로 각각 만드시오"
   ]
  },
  {
   "cell_type": "code",
   "execution_count": 71,
   "metadata": {
    "colab": {
     "base_uri": "https://localhost:8080/"
    },
    "id": "RYOk1EplOOg1",
    "outputId": "c8ab12ad-85ec-4996-b5e1-57ee1abe5162"
   },
   "outputs": [],
   "source": [
    "list = [\"라면\", 3000, \"생수\", 2500, \"과자\", 1500, \"삼각김밥\", 1000]"
   ]
  },
  {
   "cell_type": "code",
   "execution_count": 73,
   "metadata": {},
   "outputs": [
    {
     "data": {
      "text/plain": [
       "int"
      ]
     },
     "execution_count": 73,
     "metadata": {},
     "output_type": "execute_result"
    }
   ],
   "source": [
    "type(list[1])"
   ]
  },
  {
   "cell_type": "code",
   "execution_count": 74,
   "metadata": {},
   "outputs": [],
   "source": [
    "menus = []\n",
    "prices = []\n",
    "\n",
    "for i in list:\n",
    "    if type(i) == str:\n",
    "        menus.append(i)\n",
    "    elif type(i) == int:\n",
    "        prices.append(i)"
   ]
  },
  {
   "cell_type": "code",
   "execution_count": 76,
   "metadata": {},
   "outputs": [
    {
     "name": "stdout",
     "output_type": "stream",
     "text": [
      "['라면', '생수', '과자', '삼각김밥']\n",
      "[3000, 2500, 1500, 1000]\n"
     ]
    }
   ],
   "source": [
    "print(menus)\n",
    "print(prices)"
   ]
  },
  {
   "cell_type": "markdown",
   "metadata": {
    "id": "ks9TfJz_SgSA"
   },
   "source": [
    "## while, for, if문을 활용해 아래와 같은 결과가 나오도록 만드시오"
   ]
  },
  {
   "cell_type": "code",
   "execution_count": 77,
   "metadata": {},
   "outputs": [
    {
     "name": "stdout",
     "output_type": "stream",
     "text": [
      "라면: 3000원\n",
      "생수: 2500원\n",
      "과자: 1500원\n",
      "삼각김밥: 1000원\n"
     ]
    }
   ],
   "source": [
    "for i, j in zip(menus, prices):\n",
    "    print(f\"{i}: {j}원\")"
   ]
  },
  {
   "cell_type": "code",
   "execution_count": 78,
   "metadata": {},
   "outputs": [
    {
     "name": "stdout",
     "output_type": "stream",
     "text": [
      "라면: 3000원\n",
      "생수: 2500원\n",
      "과자: 1500원\n",
      "삼각김밥: 1000원\n",
      "구매하고 싶은 품목을 선택하세요(그만하시려면 done) : 라면\n",
      "라면의 가격은 3000원입니다.\n",
      "**************************************************\n",
      "라면: 3000원\n",
      "생수: 2500원\n",
      "과자: 1500원\n",
      "삼각김밥: 1000원\n",
      "구매하고 싶은 품목을 선택하세요(그만하시려면 done) : 생수\n",
      "생수의 가격은 2500원입니다.\n",
      "**************************************************\n",
      "라면: 3000원\n",
      "생수: 2500원\n",
      "과자: 1500원\n",
      "삼각김밥: 1000원\n",
      "구매하고 싶은 품목을 선택하세요(그만하시려면 done) : 삼각김밥\n",
      "삼각김밥의 가격은 1000원입니다.\n",
      "**************************************************\n",
      "라면: 3000원\n",
      "생수: 2500원\n",
      "과자: 1500원\n",
      "삼각김밥: 1000원\n",
      "구매하고 싶은 품목을 선택하세요(그만하시려면 done) : 과자\n",
      "과자의 가격은 1500원입니다.\n",
      "**************************************************\n",
      "라면: 3000원\n",
      "생수: 2500원\n",
      "과자: 1500원\n",
      "삼각김밥: 1000원\n",
      "구매하고 싶은 품목을 선택하세요(그만하시려면 done) : done\n",
      "총 금액은 8000원 입니다.\n"
     ]
    }
   ],
   "source": [
    "total = []\n",
    "\n",
    "while True:\n",
    "    for i, j in zip(menus, prices):\n",
    "        print(f\"{i}: {j}원\")\n",
    "    order = input(\"구매하고 싶은 품목을 선택하세요(그만하시려면 done) : \")\n",
    "\n",
    "    if order == \"라면\":\n",
    "        print(f\"{order}의 가격은 {prices[0]}원입니다.\")\n",
    "        print(\"**************************************************\")\n",
    "        total.append(prices[0])\n",
    "    elif order == \"생수\":\n",
    "        print(f\"{order}의 가격은 {prices[1]}원입니다.\")\n",
    "        print(\"**************************************************\")\n",
    "        total.append(prices[1])\n",
    "    elif order == \"과자\":\n",
    "        print(f\"{order}의 가격은 {prices[2]}원입니다.\")\n",
    "        print(\"**************************************************\")\n",
    "        total.append(prices[2])\n",
    "    elif order == \"삼각김밥\":\n",
    "        print(f\"{order}의 가격은 {prices[3]}원입니다.\")\n",
    "        print(\"**************************************************\")\n",
    "        total.append(prices[3])\n",
    "    elif order == \"done\":\n",
    "        print(f\"총 금액은 {sum(total)}원 입니다.\")\n",
    "        break\n"
   ]
  },
  {
   "cell_type": "code",
   "execution_count": null,
   "metadata": {},
   "outputs": [],
   "source": []
  }
 ],
 "metadata": {
  "colab": {
   "provenance": []
  },
  "kernelspec": {
   "display_name": "Python 3 (ipykernel)",
   "language": "python",
   "name": "python3"
  },
  "language_info": {
   "codemirror_mode": {
    "name": "ipython",
    "version": 3
   },
   "file_extension": ".py",
   "mimetype": "text/x-python",
   "name": "python",
   "nbconvert_exporter": "python",
   "pygments_lexer": "ipython3",
   "version": "3.9.13"
  }
 },
 "nbformat": 4,
 "nbformat_minor": 1
}
