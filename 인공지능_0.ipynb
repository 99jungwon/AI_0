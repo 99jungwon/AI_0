{
 "cells": [
  {
   "cell_type": "markdown",
   "id": "a690fed6",
   "metadata": {},
   "source": [
    "# 인공지능 테스트 1번"
   ]
  },
  {
   "cell_type": "code",
   "execution_count": 4,
   "id": "7f9b5920",
   "metadata": {},
   "outputs": [
    {
     "name": "stdout",
     "output_type": "stream",
     "text": [
      "서정원\n"
     ]
    }
   ],
   "source": [
    "name = input()"
   ]
  },
  {
   "cell_type": "code",
   "execution_count": 6,
   "id": "7d344bbd",
   "metadata": {},
   "outputs": [
    {
     "name": "stdout",
     "output_type": "stream",
     "text": [
      "25\n"
     ]
    }
   ],
   "source": [
    "age = int(input())"
   ]
  },
  {
   "cell_type": "code",
   "execution_count": 9,
   "id": "059892ee",
   "metadata": {},
   "outputs": [
    {
     "name": "stdout",
     "output_type": "stream",
     "text": [
      "이름은 서정원이고 나이는 25살입니다.\n"
     ]
    }
   ],
   "source": [
    "print(f\"이름은 {name}이고 나이는 {age}살입니다.\")"
   ]
  },
  {
   "cell_type": "markdown",
   "id": "7457331f",
   "metadata": {},
   "source": [
    "# 인공지능 테스트 2번"
   ]
  },
  {
   "cell_type": "code",
   "execution_count": 15,
   "id": "8729b429",
   "metadata": {},
   "outputs": [],
   "source": [
    "num = (1,2,3,4,5,6,7,8,9)"
   ]
  },
  {
   "cell_type": "code",
   "execution_count": 18,
   "id": "c340ba06",
   "metadata": {},
   "outputs": [
    {
     "data": {
      "text/plain": [
       "1"
      ]
     },
     "execution_count": 18,
     "metadata": {},
     "output_type": "execute_result"
    }
   ],
   "source": [
    "num[0]"
   ]
  },
  {
   "cell_type": "code",
   "execution_count": 41,
   "id": "933830df",
   "metadata": {},
   "outputs": [
    {
     "name": "stdout",
     "output_type": "stream",
     "text": [
      "------------1단------------\n",
      "구구단 : 1 X 1 = 1입니다.\n",
      "구구단 : 1 X 2 = 2입니다.\n",
      "구구단 : 1 X 3 = 3입니다.\n",
      "구구단 : 1 X 4 = 4입니다.\n",
      "구구단 : 1 X 5 = 5입니다.\n",
      "구구단 : 1 X 6 = 6입니다.\n",
      "구구단 : 1 X 7 = 7입니다.\n",
      "구구단 : 1 X 8 = 8입니다.\n",
      "구구단 : 1 X 9 = 9입니다.\n",
      "------------2단------------\n",
      "구구단 : 2 X 1 = 2입니다.\n",
      "구구단 : 2 X 2 = 4입니다.\n",
      "구구단 : 2 X 3 = 6입니다.\n",
      "구구단 : 2 X 4 = 8입니다.\n",
      "구구단 : 2 X 5 = 10입니다.\n",
      "구구단 : 2 X 6 = 12입니다.\n",
      "구구단 : 2 X 7 = 14입니다.\n",
      "구구단 : 2 X 8 = 16입니다.\n",
      "구구단 : 2 X 9 = 18입니다.\n",
      "------------3단------------\n",
      "구구단 : 3 X 1 = 3입니다.\n",
      "구구단 : 3 X 2 = 6입니다.\n",
      "구구단 : 3 X 3 = 9입니다.\n",
      "구구단 : 3 X 4 = 12입니다.\n",
      "구구단 : 3 X 5 = 15입니다.\n",
      "구구단 : 3 X 6 = 18입니다.\n",
      "구구단 : 3 X 7 = 21입니다.\n",
      "구구단 : 3 X 8 = 24입니다.\n",
      "구구단 : 3 X 9 = 27입니다.\n",
      "------------4단------------\n",
      "구구단 : 4 X 1 = 4입니다.\n",
      "구구단 : 4 X 2 = 8입니다.\n",
      "구구단 : 4 X 3 = 12입니다.\n",
      "구구단 : 4 X 4 = 16입니다.\n",
      "구구단 : 4 X 5 = 20입니다.\n",
      "구구단 : 4 X 6 = 24입니다.\n",
      "구구단 : 4 X 7 = 28입니다.\n",
      "구구단 : 4 X 8 = 32입니다.\n",
      "구구단 : 4 X 9 = 36입니다.\n",
      "------------5단------------\n",
      "구구단 : 5 X 1 = 5입니다.\n",
      "구구단 : 5 X 2 = 10입니다.\n",
      "구구단 : 5 X 3 = 15입니다.\n",
      "구구단 : 5 X 4 = 20입니다.\n",
      "구구단 : 5 X 5 = 25입니다.\n",
      "구구단 : 5 X 6 = 30입니다.\n",
      "구구단 : 5 X 7 = 35입니다.\n",
      "구구단 : 5 X 8 = 40입니다.\n",
      "구구단 : 5 X 9 = 45입니다.\n",
      "------------6단------------\n",
      "구구단 : 6 X 1 = 6입니다.\n",
      "구구단 : 6 X 2 = 12입니다.\n",
      "구구단 : 6 X 3 = 18입니다.\n",
      "구구단 : 6 X 4 = 24입니다.\n",
      "구구단 : 6 X 5 = 30입니다.\n",
      "구구단 : 6 X 6 = 36입니다.\n",
      "구구단 : 6 X 7 = 42입니다.\n",
      "구구단 : 6 X 8 = 48입니다.\n",
      "구구단 : 6 X 9 = 54입니다.\n",
      "------------7단------------\n",
      "구구단 : 7 X 1 = 7입니다.\n",
      "구구단 : 7 X 2 = 14입니다.\n",
      "구구단 : 7 X 3 = 21입니다.\n",
      "구구단 : 7 X 4 = 28입니다.\n",
      "구구단 : 7 X 5 = 35입니다.\n",
      "구구단 : 7 X 6 = 42입니다.\n",
      "구구단 : 7 X 7 = 49입니다.\n",
      "구구단 : 7 X 8 = 56입니다.\n",
      "구구단 : 7 X 9 = 63입니다.\n",
      "------------8단------------\n",
      "구구단 : 8 X 1 = 8입니다.\n",
      "구구단 : 8 X 2 = 16입니다.\n",
      "구구단 : 8 X 3 = 24입니다.\n",
      "구구단 : 8 X 4 = 32입니다.\n",
      "구구단 : 8 X 5 = 40입니다.\n",
      "구구단 : 8 X 6 = 48입니다.\n",
      "구구단 : 8 X 7 = 56입니다.\n",
      "구구단 : 8 X 8 = 64입니다.\n",
      "구구단 : 8 X 9 = 72입니다.\n",
      "------------9단------------\n",
      "구구단 : 9 X 1 = 9입니다.\n",
      "구구단 : 9 X 2 = 18입니다.\n",
      "구구단 : 9 X 3 = 27입니다.\n",
      "구구단 : 9 X 4 = 36입니다.\n",
      "구구단 : 9 X 5 = 45입니다.\n",
      "구구단 : 9 X 6 = 54입니다.\n",
      "구구단 : 9 X 7 = 63입니다.\n",
      "구구단 : 9 X 8 = 72입니다.\n",
      "구구단 : 9 X 9 = 81입니다.\n"
     ]
    }
   ],
   "source": [
    "for i in range(1,10):\n",
    "    print(f\"------------{i}단------------\")\n",
    "    for j in range(1, 10):\n",
    "        print(f\"구구단 : {i} X {j} = {i*j}입니다.\")\n"
   ]
  },
  {
   "cell_type": "markdown",
   "id": "6f6bc32d",
   "metadata": {},
   "source": [
    "# 인공지능 테스트 3번"
   ]
  },
  {
   "cell_type": "code",
   "execution_count": 59,
   "id": "fd5376af",
   "metadata": {},
   "outputs": [],
   "source": [
    "exam = [60, 80, 95, 69, 90, 81, 80, 69, 79, 66, 70, 90, 96]"
   ]
  },
  {
   "cell_type": "code",
   "execution_count": 60,
   "id": "06fe434f",
   "metadata": {},
   "outputs": [
    {
     "data": {
      "text/plain": [
       "[60, 80, 95, 69, 90, 81, 80, 69, 79, 66, 70, 90, 96]"
      ]
     },
     "execution_count": 60,
     "metadata": {},
     "output_type": "execute_result"
    }
   ],
   "source": [
    "exam"
   ]
  },
  {
   "cell_type": "code",
   "execution_count": 64,
   "id": "64a9f2fc",
   "metadata": {},
   "outputs": [],
   "source": [
    "exam = "
   ]
  },
  {
   "cell_type": "code",
   "execution_count": 66,
   "id": "86ac8fe7",
   "metadata": {},
   "outputs": [
    {
     "data": {
      "text/plain": [
       "list[[60, 80, 95, 69, 90, 81, 80, 69, 79, 66, 70, 90, 96]]"
      ]
     },
     "execution_count": 66,
     "metadata": {},
     "output_type": "execute_result"
    }
   ],
   "source": [
    "exam"
   ]
  },
  {
   "cell_type": "code",
   "execution_count": 54,
   "id": "2638eefc",
   "metadata": {},
   "outputs": [
    {
     "ename": "TypeError",
     "evalue": "'>=' not supported between instances of 'list' and 'int'",
     "output_type": "error",
     "traceback": [
      "\u001b[1;31m---------------------------------------------------------------------------\u001b[0m",
      "\u001b[1;31mTypeError\u001b[0m                                 Traceback (most recent call last)",
      "\u001b[1;32m~\\AppData\\Local\\Temp\\ipykernel_5300\\121070356.py\u001b[0m in \u001b[0;36m<module>\u001b[1;34m\u001b[0m\n\u001b[1;32m----> 1\u001b[1;33m \u001b[1;32mif\u001b[0m\u001b[1;33m(\u001b[0m\u001b[0mexam\u001b[0m \u001b[1;33m>=\u001b[0m \u001b[1;36m90\u001b[0m\u001b[1;33m)\u001b[0m\u001b[1;33m:\u001b[0m\u001b[1;33m\u001b[0m\u001b[1;33m\u001b[0m\u001b[0m\n\u001b[0m\u001b[0;32m      2\u001b[0m     \u001b[0mprint\u001b[0m\u001b[1;33m(\u001b[0m\u001b[1;34mf\"당신의 성적은{exam}이므로 점수는 A입니다.\"\u001b[0m\u001b[1;33m)\u001b[0m\u001b[1;33m\u001b[0m\u001b[1;33m\u001b[0m\u001b[0m\n",
      "\u001b[1;31mTypeError\u001b[0m: '>=' not supported between instances of 'list' and 'int'"
     ]
    }
   ],
   "source": [
    "if(exam >= 90):\n",
    "    print(f\"당신의 성적은{}이므로 점수는 A입니다.\")"
   ]
  },
  {
   "cell_type": "markdown",
   "id": "9bad3173",
   "metadata": {},
   "source": [
    "# 인공지능 테스트 4번"
   ]
  },
  {
   "cell_type": "code",
   "execution_count": 74,
   "id": "016615df",
   "metadata": {},
   "outputs": [],
   "source": [
    "i = 1"
   ]
  },
  {
   "cell_type": "code",
   "execution_count": 82,
   "id": "58753da0",
   "metadata": {},
   "outputs": [
    {
     "name": "stdout",
     "output_type": "stream",
     "text": [
      "i의 값 : 1, 합계 : 1\n",
      "i의 값 : 2, 합계 : 3\n",
      "i의 값 : 3, 합계 : 6\n",
      "i의 값 : 4, 합계 : 10\n",
      "i의 값 : 5, 합계 : 15\n",
      "i의 값 : 6, 합계 : 21\n",
      "i의 값 : 7, 합계 : 28\n",
      "i의 값 : 8, 합계 : 36\n",
      "i의 값 : 9, 합계 : 45\n",
      "i의 값 : 10, 합계 : 55\n"
     ]
    }
   ],
   "source": [
    "sum = 0\n",
    "for j in range(0, 10):\n",
    "    sum = sum+i+j\n",
    "    print(f\"i의 값 : {i+j}, 합계 : {sum}\")\n",
    "    "
   ]
  },
  {
   "cell_type": "code",
   "execution_count": 88,
   "id": "52bc8b6f",
   "metadata": {},
   "outputs": [
    {
     "name": "stdout",
     "output_type": "stream",
     "text": [
      "내실 돈을 입력해주세요.12000\n",
      "구매가 가능합니다.\n"
     ]
    }
   ],
   "source": [
    "Ja = int(10000)\n",
    "pay = int(input(\"내실 돈을 입력해주세요.\"))\n",
    "if(pay < Ja):\n",
    "    print(\"구매가 불가능합니다.\")\n",
    "else:\n",
    "    print(\"구매가 가능합니다.\")"
   ]
  },
  {
   "cell_type": "markdown",
   "id": "abf67f84",
   "metadata": {},
   "source": []
  }
 ],
 "metadata": {
  "kernelspec": {
   "display_name": "Python 3 (ipykernel)",
   "language": "python",
   "name": "python3"
  },
  "language_info": {
   "codemirror_mode": {
    "name": "ipython",
    "version": 3
   },
   "file_extension": ".py",
   "mimetype": "text/x-python",
   "name": "python",
   "nbconvert_exporter": "python",
   "pygments_lexer": "ipython3",
   "version": "3.9.13"
  }
 },
 "nbformat": 4,
 "nbformat_minor": 5
}
