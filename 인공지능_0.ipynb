{
 "cells": [
  {
   "cell_type": "markdown",
   "id": "a690fed6",
   "metadata": {},
   "source": [
    "# 인공지능 테스트 1번\n",
    " - name과 age 변수를 만들어 print와 format을 활용해 name변수에는 이름, age변수에는 나이를 입력해 결과를 프린트 하시오."
   ]
  },
  {
   "cell_type": "code",
   "execution_count": 4,
   "id": "7f9b5920",
   "metadata": {},
   "outputs": [
    {
     "name": "stdout",
     "output_type": "stream",
     "text": [
      "서정원\n"
     ]
    }
   ],
   "source": [
    "name = input()"
   ]
  },
  {
   "cell_type": "code",
   "execution_count": 6,
   "id": "7d344bbd",
   "metadata": {},
   "outputs": [
    {
     "name": "stdout",
     "output_type": "stream",
     "text": [
      "25\n"
     ]
    }
   ],
   "source": [
    "age = int(input())"
   ]
  },
  {
   "cell_type": "code",
   "execution_count": 9,
   "id": "059892ee",
   "metadata": {},
   "outputs": [
    {
     "name": "stdout",
     "output_type": "stream",
     "text": [
      "이름은 서정원이고 나이는 25살입니다.\n"
     ]
    }
   ],
   "source": [
    "print(f\"이름은 {name}이고 나이는 {age}살입니다.\")"
   ]
  },
  {
   "cell_type": "markdown",
   "id": "fb3e970b",
   "metadata": {},
   "source": [
    "# 교수님 답"
   ]
  },
  {
   "cell_type": "code",
   "execution_count": 3,
   "id": "a4a7614c",
   "metadata": {},
   "outputs": [
    {
     "name": "stdout",
     "output_type": "stream",
     "text": [
      "서정원\n",
      "25\n"
     ]
    }
   ],
   "source": [
    "name = input()\n",
    "age = int(input())"
   ]
  },
  {
   "cell_type": "code",
   "execution_count": 5,
   "id": "09b44ec5",
   "metadata": {},
   "outputs": [
    {
     "data": {
      "text/plain": [
       "'서정원'"
      ]
     },
     "execution_count": 5,
     "metadata": {},
     "output_type": "execute_result"
    }
   ],
   "source": [
    "name"
   ]
  },
  {
   "cell_type": "code",
   "execution_count": 6,
   "id": "bcdb685d",
   "metadata": {},
   "outputs": [
    {
     "data": {
      "text/plain": [
       "25"
      ]
     },
     "execution_count": 6,
     "metadata": {},
     "output_type": "execute_result"
    }
   ],
   "source": [
    "age"
   ]
  },
  {
   "cell_type": "code",
   "execution_count": 8,
   "id": "445038af",
   "metadata": {},
   "outputs": [
    {
     "name": "stdout",
     "output_type": "stream",
     "text": [
      "이름 : 서정원 나이 : 25\n"
     ]
    }
   ],
   "source": [
    "print((\"이름 : {} 나이 : {}\").format(name, age))"
   ]
  },
  {
   "cell_type": "markdown",
   "id": "7457331f",
   "metadata": {},
   "source": [
    "# 인공지능 테스트 2번\n",
    " - 1단부터 9단까지 구구단을 만드시오."
   ]
  },
  {
   "cell_type": "code",
   "execution_count": 15,
   "id": "8729b429",
   "metadata": {},
   "outputs": [],
   "source": [
    "num = (1,2,3,4,5,6,7,8,9)"
   ]
  },
  {
   "cell_type": "code",
   "execution_count": 18,
   "id": "c340ba06",
   "metadata": {},
   "outputs": [
    {
     "data": {
      "text/plain": [
       "1"
      ]
     },
     "execution_count": 18,
     "metadata": {},
     "output_type": "execute_result"
    }
   ],
   "source": [
    "num[0]"
   ]
  },
  {
   "cell_type": "code",
   "execution_count": 41,
   "id": "933830df",
   "metadata": {},
   "outputs": [
    {
     "name": "stdout",
     "output_type": "stream",
     "text": [
      "------------1단------------\n",
      "구구단 : 1 X 1 = 1입니다.\n",
      "구구단 : 1 X 2 = 2입니다.\n",
      "구구단 : 1 X 3 = 3입니다.\n",
      "구구단 : 1 X 4 = 4입니다.\n",
      "구구단 : 1 X 5 = 5입니다.\n",
      "구구단 : 1 X 6 = 6입니다.\n",
      "구구단 : 1 X 7 = 7입니다.\n",
      "구구단 : 1 X 8 = 8입니다.\n",
      "구구단 : 1 X 9 = 9입니다.\n",
      "------------2단------------\n",
      "구구단 : 2 X 1 = 2입니다.\n",
      "구구단 : 2 X 2 = 4입니다.\n",
      "구구단 : 2 X 3 = 6입니다.\n",
      "구구단 : 2 X 4 = 8입니다.\n",
      "구구단 : 2 X 5 = 10입니다.\n",
      "구구단 : 2 X 6 = 12입니다.\n",
      "구구단 : 2 X 7 = 14입니다.\n",
      "구구단 : 2 X 8 = 16입니다.\n",
      "구구단 : 2 X 9 = 18입니다.\n",
      "------------3단------------\n",
      "구구단 : 3 X 1 = 3입니다.\n",
      "구구단 : 3 X 2 = 6입니다.\n",
      "구구단 : 3 X 3 = 9입니다.\n",
      "구구단 : 3 X 4 = 12입니다.\n",
      "구구단 : 3 X 5 = 15입니다.\n",
      "구구단 : 3 X 6 = 18입니다.\n",
      "구구단 : 3 X 7 = 21입니다.\n",
      "구구단 : 3 X 8 = 24입니다.\n",
      "구구단 : 3 X 9 = 27입니다.\n",
      "------------4단------------\n",
      "구구단 : 4 X 1 = 4입니다.\n",
      "구구단 : 4 X 2 = 8입니다.\n",
      "구구단 : 4 X 3 = 12입니다.\n",
      "구구단 : 4 X 4 = 16입니다.\n",
      "구구단 : 4 X 5 = 20입니다.\n",
      "구구단 : 4 X 6 = 24입니다.\n",
      "구구단 : 4 X 7 = 28입니다.\n",
      "구구단 : 4 X 8 = 32입니다.\n",
      "구구단 : 4 X 9 = 36입니다.\n",
      "------------5단------------\n",
      "구구단 : 5 X 1 = 5입니다.\n",
      "구구단 : 5 X 2 = 10입니다.\n",
      "구구단 : 5 X 3 = 15입니다.\n",
      "구구단 : 5 X 4 = 20입니다.\n",
      "구구단 : 5 X 5 = 25입니다.\n",
      "구구단 : 5 X 6 = 30입니다.\n",
      "구구단 : 5 X 7 = 35입니다.\n",
      "구구단 : 5 X 8 = 40입니다.\n",
      "구구단 : 5 X 9 = 45입니다.\n",
      "------------6단------------\n",
      "구구단 : 6 X 1 = 6입니다.\n",
      "구구단 : 6 X 2 = 12입니다.\n",
      "구구단 : 6 X 3 = 18입니다.\n",
      "구구단 : 6 X 4 = 24입니다.\n",
      "구구단 : 6 X 5 = 30입니다.\n",
      "구구단 : 6 X 6 = 36입니다.\n",
      "구구단 : 6 X 7 = 42입니다.\n",
      "구구단 : 6 X 8 = 48입니다.\n",
      "구구단 : 6 X 9 = 54입니다.\n",
      "------------7단------------\n",
      "구구단 : 7 X 1 = 7입니다.\n",
      "구구단 : 7 X 2 = 14입니다.\n",
      "구구단 : 7 X 3 = 21입니다.\n",
      "구구단 : 7 X 4 = 28입니다.\n",
      "구구단 : 7 X 5 = 35입니다.\n",
      "구구단 : 7 X 6 = 42입니다.\n",
      "구구단 : 7 X 7 = 49입니다.\n",
      "구구단 : 7 X 8 = 56입니다.\n",
      "구구단 : 7 X 9 = 63입니다.\n",
      "------------8단------------\n",
      "구구단 : 8 X 1 = 8입니다.\n",
      "구구단 : 8 X 2 = 16입니다.\n",
      "구구단 : 8 X 3 = 24입니다.\n",
      "구구단 : 8 X 4 = 32입니다.\n",
      "구구단 : 8 X 5 = 40입니다.\n",
      "구구단 : 8 X 6 = 48입니다.\n",
      "구구단 : 8 X 7 = 56입니다.\n",
      "구구단 : 8 X 8 = 64입니다.\n",
      "구구단 : 8 X 9 = 72입니다.\n",
      "------------9단------------\n",
      "구구단 : 9 X 1 = 9입니다.\n",
      "구구단 : 9 X 2 = 18입니다.\n",
      "구구단 : 9 X 3 = 27입니다.\n",
      "구구단 : 9 X 4 = 36입니다.\n",
      "구구단 : 9 X 5 = 45입니다.\n",
      "구구단 : 9 X 6 = 54입니다.\n",
      "구구단 : 9 X 7 = 63입니다.\n",
      "구구단 : 9 X 8 = 72입니다.\n",
      "구구단 : 9 X 9 = 81입니다.\n"
     ]
    }
   ],
   "source": [
    "for i in range(1,10):\n",
    "    print(f\"------------{i}단------------\")\n",
    "    for j in range(1, 10):\n",
    "        print(f\"구구단 : {i} X {j} = {i*j}입니다.\")\n"
   ]
  },
  {
   "cell_type": "markdown",
   "id": "98af7c50",
   "metadata": {},
   "source": [
    "# 교수님 답"
   ]
  },
  {
   "cell_type": "code",
   "execution_count": 11,
   "id": "71bd02ce",
   "metadata": {},
   "outputs": [
    {
     "name": "stdout",
     "output_type": "stream",
     "text": [
      "----------1단----------\n",
      "1X1=1\n",
      "1X2=2\n",
      "1X3=3\n",
      "1X4=4\n",
      "1X5=5\n",
      "1X6=6\n",
      "1X7=7\n",
      "1X8=8\n",
      "1X9=9\n",
      "----------2단----------\n",
      "2X1=2\n",
      "2X2=4\n",
      "2X3=6\n",
      "2X4=8\n",
      "2X5=10\n",
      "2X6=12\n",
      "2X7=14\n",
      "2X8=16\n",
      "2X9=18\n",
      "----------3단----------\n",
      "3X1=3\n",
      "3X2=6\n",
      "3X3=9\n",
      "3X4=12\n",
      "3X5=15\n",
      "3X6=18\n",
      "3X7=21\n",
      "3X8=24\n",
      "3X9=27\n",
      "----------4단----------\n",
      "4X1=4\n",
      "4X2=8\n",
      "4X3=12\n",
      "4X4=16\n",
      "4X5=20\n",
      "4X6=24\n",
      "4X7=28\n",
      "4X8=32\n",
      "4X9=36\n",
      "----------5단----------\n",
      "5X1=5\n",
      "5X2=10\n",
      "5X3=15\n",
      "5X4=20\n",
      "5X5=25\n",
      "5X6=30\n",
      "5X7=35\n",
      "5X8=40\n",
      "5X9=45\n",
      "----------6단----------\n",
      "6X1=6\n",
      "6X2=12\n",
      "6X3=18\n",
      "6X4=24\n",
      "6X5=30\n",
      "6X6=36\n",
      "6X7=42\n",
      "6X8=48\n",
      "6X9=54\n",
      "----------7단----------\n",
      "7X1=7\n",
      "7X2=14\n",
      "7X3=21\n",
      "7X4=28\n",
      "7X5=35\n",
      "7X6=42\n",
      "7X7=49\n",
      "7X8=56\n",
      "7X9=63\n",
      "----------8단----------\n",
      "8X1=8\n",
      "8X2=16\n",
      "8X3=24\n",
      "8X4=32\n",
      "8X5=40\n",
      "8X6=48\n",
      "8X7=56\n",
      "8X8=64\n",
      "8X9=72\n",
      "----------9단----------\n",
      "9X1=9\n",
      "9X2=18\n",
      "9X3=27\n",
      "9X4=36\n",
      "9X5=45\n",
      "9X6=54\n",
      "9X7=63\n",
      "9X8=72\n",
      "9X9=81\n"
     ]
    }
   ],
   "source": [
    "for i in range(1,10):\n",
    "    print((\"----------{}단----------\").format(i))\n",
    "    for j in range(1,10):\n",
    "        print((\"{}X{}={}\").format(i, j, i*j))"
   ]
  },
  {
   "cell_type": "markdown",
   "id": "6f6bc32d",
   "metadata": {},
   "source": [
    "# 인공지능 테스트 3번\n",
    " - [60, 80, 95, 69, 90, 81, 80, 69, 79, 66, 70, 90, 96]를 리스트로 변환하고 90이상 a 80점이상 b 70점이상 c 60이상 d 나머지는 f\n"
   ]
  },
  {
   "cell_type": "code",
   "execution_count": 59,
   "id": "fd5376af",
   "metadata": {},
   "outputs": [],
   "source": [
    "exam = [60, 80, 95, 69, 90, 81, 80, 69, 79, 66, 70, 90, 96]"
   ]
  },
  {
   "cell_type": "code",
   "execution_count": 60,
   "id": "06fe434f",
   "metadata": {},
   "outputs": [
    {
     "data": {
      "text/plain": [
       "[60, 80, 95, 69, 90, 81, 80, 69, 79, 66, 70, 90, 96]"
      ]
     },
     "execution_count": 60,
     "metadata": {},
     "output_type": "execute_result"
    }
   ],
   "source": [
    "exam"
   ]
  },
  {
   "cell_type": "code",
   "execution_count": 64,
   "id": "64a9f2fc",
   "metadata": {},
   "outputs": [],
   "source": [
    "exam = "
   ]
  },
  {
   "cell_type": "code",
   "execution_count": 66,
   "id": "86ac8fe7",
   "metadata": {},
   "outputs": [
    {
     "data": {
      "text/plain": [
       "list[[60, 80, 95, 69, 90, 81, 80, 69, 79, 66, 70, 90, 96]]"
      ]
     },
     "execution_count": 66,
     "metadata": {},
     "output_type": "execute_result"
    }
   ],
   "source": [
    "exam"
   ]
  },
  {
   "cell_type": "code",
   "execution_count": 54,
   "id": "2638eefc",
   "metadata": {
    "scrolled": true
   },
   "outputs": [
    {
     "ename": "TypeError",
     "evalue": "'>=' not supported between instances of 'list' and 'int'",
     "output_type": "error",
     "traceback": [
      "\u001b[1;31m---------------------------------------------------------------------------\u001b[0m",
      "\u001b[1;31mTypeError\u001b[0m                                 Traceback (most recent call last)",
      "\u001b[1;32m~\\AppData\\Local\\Temp\\ipykernel_5300\\121070356.py\u001b[0m in \u001b[0;36m<module>\u001b[1;34m\u001b[0m\n\u001b[1;32m----> 1\u001b[1;33m \u001b[1;32mif\u001b[0m\u001b[1;33m(\u001b[0m\u001b[0mexam\u001b[0m \u001b[1;33m>=\u001b[0m \u001b[1;36m90\u001b[0m\u001b[1;33m)\u001b[0m\u001b[1;33m:\u001b[0m\u001b[1;33m\u001b[0m\u001b[1;33m\u001b[0m\u001b[0m\n\u001b[0m\u001b[0;32m      2\u001b[0m     \u001b[0mprint\u001b[0m\u001b[1;33m(\u001b[0m\u001b[1;34mf\"당신의 성적은{exam}이므로 점수는 A입니다.\"\u001b[0m\u001b[1;33m)\u001b[0m\u001b[1;33m\u001b[0m\u001b[1;33m\u001b[0m\u001b[0m\n",
      "\u001b[1;31mTypeError\u001b[0m: '>=' not supported between instances of 'list' and 'int'"
     ]
    }
   ],
   "source": [
    "if(exam >= 90):\n",
    "    print(f\"당신의 성적은{}이므로 점수는 A입니다.\")"
   ]
  },
  {
   "cell_type": "markdown",
   "id": "e2c1638a",
   "metadata": {},
   "source": [
    "# 교수님 답"
   ]
  },
  {
   "cell_type": "code",
   "execution_count": 12,
   "id": "d14821f6",
   "metadata": {},
   "outputs": [],
   "source": [
    "exam = [60, 80, 95, 69, 90, 81, 80, 69, 79, 66, 70, 90, 96]"
   ]
  },
  {
   "cell_type": "code",
   "execution_count": 14,
   "id": "c2d56a73",
   "metadata": {},
   "outputs": [
    {
     "name": "stdout",
     "output_type": "stream",
     "text": [
      "D\n",
      "B\n",
      "A\n",
      "D\n",
      "A\n",
      "B\n",
      "B\n",
      "D\n",
      "C\n",
      "D\n",
      "C\n",
      "A\n",
      "A\n"
     ]
    }
   ],
   "source": [
    "for i in exam :\n",
    "    if i >= 90:\n",
    "        print(\"A\")\n",
    "    elif i >=80:\n",
    "        print(\"B\")\n",
    "    elif i >=70:\n",
    "        print(\"C\")\n",
    "    elif i >=60:\n",
    "        print(\"D\")\n",
    "    elif i < 60:\n",
    "        print(\"F\")\n",
    "    else:\n",
    "        print(\"정확한 값을 입력해주세요.\")"
   ]
  },
  {
   "cell_type": "markdown",
   "id": "9bad3173",
   "metadata": {},
   "source": [
    "# 인공지능 테스트 4번"
   ]
  },
  {
   "cell_type": "code",
   "execution_count": 74,
   "id": "016615df",
   "metadata": {},
   "outputs": [],
   "source": [
    "i = 1"
   ]
  },
  {
   "cell_type": "code",
   "execution_count": 82,
   "id": "58753da0",
   "metadata": {},
   "outputs": [
    {
     "name": "stdout",
     "output_type": "stream",
     "text": [
      "i의 값 : 1, 합계 : 1\n",
      "i의 값 : 2, 합계 : 3\n",
      "i의 값 : 3, 합계 : 6\n",
      "i의 값 : 4, 합계 : 10\n",
      "i의 값 : 5, 합계 : 15\n",
      "i의 값 : 6, 합계 : 21\n",
      "i의 값 : 7, 합계 : 28\n",
      "i의 값 : 8, 합계 : 36\n",
      "i의 값 : 9, 합계 : 45\n",
      "i의 값 : 10, 합계 : 55\n"
     ]
    }
   ],
   "source": [
    "sum = 0\n",
    "for j in range(0, 10):\n",
    "    sum = sum+i+j\n",
    "    print(f\"i의 값 : {i+j}, 합계 : {sum}\")\n",
    "    "
   ]
  },
  {
   "cell_type": "markdown",
   "id": "4d322ae6",
   "metadata": {},
   "source": [
    "# 인공지능 테스트 5번\n",
    " - 중국집 짜장면이 10,000원이면 입력 금액이 짜장면 한 그릇보다 많으면 구매가능 아니면 불가능으로 나타내라"
   ]
  },
  {
   "cell_type": "code",
   "execution_count": 88,
   "id": "52bc8b6f",
   "metadata": {},
   "outputs": [
    {
     "name": "stdout",
     "output_type": "stream",
     "text": [
      "내실 돈을 입력해주세요.12000\n",
      "구매가 가능합니다.\n"
     ]
    }
   ],
   "source": [
    "Ja = int(10000)\n",
    "pay = int(input(\"내실 돈을 입력해주세요.\"))\n",
    "if(pay < Ja):\n",
    "    print(\"구매가 불가능합니다.\")\n",
    "else:\n",
    "    print(\"구매가 가능합니다.\")"
   ]
  },
  {
   "cell_type": "markdown",
   "id": "75a4975b",
   "metadata": {},
   "source": [
    "# 교수님 답"
   ]
  },
  {
   "cell_type": "markdown",
   "id": "abf67f84",
   "metadata": {},
   "source": []
  },
  {
   "cell_type": "code",
   "execution_count": 15,
   "id": "5b78828f",
   "metadata": {},
   "outputs": [
    {
     "name": "stdout",
     "output_type": "stream",
     "text": [
      "10000\n",
      "구매가능\n"
     ]
    }
   ],
   "source": [
    "pay = int(input())\n",
    "if pay >=10000:\n",
    "    print(\"구매가능\")\n",
    "else:\n",
    "    print(\"구매불가능\")"
   ]
  },
  {
   "cell_type": "markdown",
   "id": "803e1283",
   "metadata": {},
   "source": [
    "# 인공지능 테스트 6번"
   ]
  },
  {
   "cell_type": "code",
   "execution_count": 16,
   "id": "3d5a826c",
   "metadata": {},
   "outputs": [
    {
     "name": "stdout",
     "output_type": "stream",
     "text": [
      "AI\n",
      "서정원\n",
      "25\n",
      "183\n"
     ]
    }
   ],
   "source": [
    "department = input()\n",
    "name = input()\n",
    "age = int(input())\n",
    "weight = int(input())"
   ]
  },
  {
   "cell_type": "code",
   "execution_count": 19,
   "id": "f9258323",
   "metadata": {},
   "outputs": [
    {
     "name": "stdout",
     "output_type": "stream",
     "text": [
      "저는 AI학과이고 이름은 서정원 저의 나이는 25 저의 키는 183입니다.\n"
     ]
    }
   ],
   "source": [
    "print(f\"저는 {department}학과이고 이름은 {name} 저의 나이는 {age} 저의 키는 {weight}입니다.\")"
   ]
  },
  {
   "cell_type": "markdown",
   "id": "09f066e5",
   "metadata": {},
   "source": [
    "# 인공지능 테스트 7번\n",
    " - 점수의 합이 85점이 넘으면 시험에 합격했다고 문구 넣어서 print 해줘."
   ]
  },
  {
   "cell_type": "code",
   "execution_count": 35,
   "id": "1af39713",
   "metadata": {},
   "outputs": [],
   "source": [
    "grades = [85, 90, 92, 78, 80, 95]"
   ]
  },
  {
   "cell_type": "code",
   "execution_count": 36,
   "id": "f58f14a2",
   "metadata": {},
   "outputs": [
    {
     "data": {
      "text/plain": [
       "6"
      ]
     },
     "execution_count": 36,
     "metadata": {},
     "output_type": "execute_result"
    }
   ],
   "source": [
    "len(grades)"
   ]
  },
  {
   "cell_type": "code",
   "execution_count": 40,
   "id": "a94bc593",
   "metadata": {},
   "outputs": [],
   "source": [
    "sum = 0\n",
    "for i in grades:\n",
    "    sum = sum + i\n",
    "average = sum / len(grades)"
   ]
  },
  {
   "cell_type": "code",
   "execution_count": 41,
   "id": "11c14efc",
   "metadata": {},
   "outputs": [
    {
     "data": {
      "text/plain": [
       "86.66666666666667"
      ]
     },
     "execution_count": 41,
     "metadata": {},
     "output_type": "execute_result"
    }
   ],
   "source": [
    "average"
   ]
  },
  {
   "cell_type": "code",
   "execution_count": 42,
   "id": "91fb4f66",
   "metadata": {},
   "outputs": [
    {
     "name": "stdout",
     "output_type": "stream",
     "text": [
      "시험에 합격했습니다!\n"
     ]
    }
   ],
   "source": [
    "if average >= 85:\n",
    "    print(\"시험에 합격했습니다!\")\n",
    "elif average < 85:\n",
    "    print(\"시험에 불합격했습니다.\")\n",
    "else:\n",
    "    print(\"점수를 제대로 입력해주세요.\")"
   ]
  },
  {
   "cell_type": "markdown",
   "id": "84558a5a",
   "metadata": {},
   "source": [
    "# 교수님 답"
   ]
  },
  {
   "cell_type": "code",
   "execution_count": 44,
   "id": "d7a17448",
   "metadata": {},
   "outputs": [],
   "source": [
    "grades = [85, 90, 92, 78, 80, 95]"
   ]
  },
  {
   "cell_type": "code",
   "execution_count": 43,
   "id": "eccaf553",
   "metadata": {},
   "outputs": [
    {
     "name": "stdout",
     "output_type": "stream",
     "text": [
      "축하합니다. 시험에 합격했습니다.\n"
     ]
    }
   ],
   "source": [
    "sum = 0\n",
    "count = 0\n",
    "\n",
    "for grade in grades:\n",
    "    sum=sum + grade\n",
    "    count=count + 1\n",
    "\n",
    "average = sum / count\n",
    "\n",
    "if average > 85:\n",
    "    print(\"축하합니다. 시험에 합격했습니다.\")"
   ]
  },
  {
   "cell_type": "code",
   "execution_count": null,
   "id": "b41daef8",
   "metadata": {},
   "outputs": [],
   "source": []
  }
 ],
 "metadata": {
  "kernelspec": {
   "display_name": "Python 3 (ipykernel)",
   "language": "python",
   "name": "python3"
  },
  "language_info": {
   "codemirror_mode": {
    "name": "ipython",
    "version": 3
   },
   "file_extension": ".py",
   "mimetype": "text/x-python",
   "name": "python",
   "nbconvert_exporter": "python",
   "pygments_lexer": "ipython3",
   "version": "3.9.13"
  }
 },
 "nbformat": 4,
 "nbformat_minor": 5
}
