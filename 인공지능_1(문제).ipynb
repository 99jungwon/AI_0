{
 "cells": [
  {
   "cell_type": "markdown",
   "id": "326e42fb",
   "metadata": {},
   "source": [
    "## 변수에 이름/학교/학과 형식으로 저장하고 format을 사용해print하시오(이름/학교/학과는 각각 input을 활용해 입력"
   ]
  },
  {
   "cell_type": "code",
   "execution_count": 2,
   "id": "8ac92ed0",
   "metadata": {},
   "outputs": [
    {
     "name": "stdout",
     "output_type": "stream",
     "text": [
      "서정원\n",
      "강원대\n",
      "AI\n",
      "서정원/강원대/AI\n"
     ]
    }
   ],
   "source": [
    "a=input()\n",
    "b=input()\n",
    "c=input()\n",
    "d=\"{}/{}/{}\".format(a,b,c)\n",
    "print(d)"
   ]
  },
  {
   "cell_type": "markdown",
   "id": "b79641d9",
   "metadata": {},
   "source": [
    "## 위에서 생성된 이름/학교/학과 라는 문자를 이름-학교-학과로 변환하시오"
   ]
  },
  {
   "cell_type": "code",
   "execution_count": 3,
   "id": "1415690a",
   "metadata": {},
   "outputs": [
    {
     "data": {
      "text/plain": [
       "'서정원-강원대-AI'"
      ]
     },
     "execution_count": 3,
     "metadata": {},
     "output_type": "execute_result"
    }
   ],
   "source": [
    "d.replace(\"/\",\"-\")"
   ]
  },
  {
   "cell_type": "markdown",
   "id": "08397030",
   "metadata": {},
   "source": [
    "## 안녕하세요 저는 AI소프트웨어학과 학생입니다. 만나서 반갑습니다. 라는 문장을 만들어서 반갑습니다. 라는 문장만 따로 print하시오 "
   ]
  },
  {
   "cell_type": "code",
   "execution_count": 4,
   "id": "5e359bed",
   "metadata": {},
   "outputs": [
    {
     "name": "stdout",
     "output_type": "stream",
     "text": [
      "반갑습니다.\n"
     ]
    }
   ],
   "source": [
    "a=\"안녕하세요 저는 AI소프트웨어학과 학생입니다. 만나서 반갑습니다.\"\n",
    "print(a[-6:])"
   ]
  },
  {
   "cell_type": "markdown",
   "id": "22f83091",
   "metadata": {},
   "source": [
    "## 위에서 저장된 변수에서 학교이름만 나오도록 print하시오"
   ]
  },
  {
   "cell_type": "code",
   "execution_count": 5,
   "id": "6453ab65",
   "metadata": {},
   "outputs": [
    {
     "data": {
      "text/plain": [
       "'강원대/A'"
      ]
     },
     "execution_count": 5,
     "metadata": {},
     "output_type": "execute_result"
    }
   ],
   "source": [
    "d[4:9]"
   ]
  },
  {
   "cell_type": "markdown",
   "id": "c77054d3",
   "metadata": {},
   "source": [
    "## 주어진 이름(Jone-30, Park-30, Kim-20, Lee-10, Oh-32, Kang-25)을 name이란 리스트를 만들고 Lee를 가진 사람의 성만 따로 도출하시오"
   ]
  },
  {
   "cell_type": "code",
   "execution_count": 6,
   "id": "b1d821bf",
   "metadata": {},
   "outputs": [
    {
     "data": {
      "text/plain": [
       "'Lee'"
      ]
     },
     "execution_count": 6,
     "metadata": {},
     "output_type": "execute_result"
    }
   ],
   "source": [
    "name=[\"Jone-30\", \"Park-30\", \"Kim-20\", \"Lee-10\", \"Oh-32\", \"Kang-25\"]\n",
    "name[3][:name[3].index(\"-\")]"
   ]
  },
  {
   "cell_type": "markdown",
   "id": "a3449225",
   "metadata": {},
   "source": [
    "## 20, 50, 76, 10, 59, 22, 40 ,50, 77, 52의 숫자를 하나의 리스트에 저장하시오"
   ]
  },
  {
   "cell_type": "code",
   "execution_count": 7,
   "id": "76eef4bf",
   "metadata": {},
   "outputs": [],
   "source": [
    "num=[20, 50, 76, 10, 59, 22, 40 ,50, 77, 52]"
   ]
  },
  {
   "cell_type": "markdown",
   "id": "53994a06",
   "metadata": {},
   "source": [
    "## 위에서 저장된 리스트에서 20, 50, 76, 10만 print하시오"
   ]
  },
  {
   "cell_type": "code",
   "execution_count": 8,
   "id": "d65c0139",
   "metadata": {},
   "outputs": [
    {
     "data": {
      "text/plain": [
       "[20, 50, 76, 10]"
      ]
     },
     "execution_count": 8,
     "metadata": {},
     "output_type": "execute_result"
    }
   ],
   "source": [
    "num[:4]"
   ]
  },
  {
   "cell_type": "markdown",
   "id": "1427bdf4",
   "metadata": {},
   "source": [
    "## 위에서 저장된 리스트에서 77만 print하시오"
   ]
  },
  {
   "cell_type": "code",
   "execution_count": 9,
   "id": "f91c0d9d",
   "metadata": {},
   "outputs": [
    {
     "data": {
      "text/plain": [
       "77"
      ]
     },
     "execution_count": 9,
     "metadata": {},
     "output_type": "execute_result"
    }
   ],
   "source": [
    "num[-2]\n",
    "#또는\n",
    "num[8]"
   ]
  },
  {
   "cell_type": "markdown",
   "id": "5bda2846",
   "metadata": {},
   "source": [
    "## 위에서 저장된 리스트에서 음수를 활용해 77, 52를 가지고오시오"
   ]
  },
  {
   "cell_type": "code",
   "execution_count": 10,
   "id": "52ed90d1",
   "metadata": {
    "scrolled": true
   },
   "outputs": [
    {
     "data": {
      "text/plain": [
       "[77, 52]"
      ]
     },
     "execution_count": 10,
     "metadata": {},
     "output_type": "execute_result"
    }
   ],
   "source": [
    "num[-2:]"
   ]
  },
  {
   "cell_type": "code",
   "execution_count": null,
   "id": "78d1ae32",
   "metadata": {},
   "outputs": [],
   "source": []
  },
  {
   "cell_type": "markdown",
   "id": "f7e68e3d",
   "metadata": {},
   "source": [
    "# ------------------------------------------- "
   ]
  },
  {
   "cell_type": "code",
   "execution_count": null,
   "id": "d581c390",
   "metadata": {},
   "outputs": [],
   "source": []
  },
  {
   "cell_type": "markdown",
   "id": "c4f11492",
   "metadata": {},
   "source": [
    "## 하나의 변수에 성명/전화번호 형식으로 저장하고 print하시오"
   ]
  },
  {
   "cell_type": "code",
   "execution_count": 3,
   "id": "d07d938a",
   "metadata": {},
   "outputs": [],
   "source": [
    "pb = {\"seo\" : \"010-1234-5678\", \"kim\" : \"010-2356-7856\"}"
   ]
  },
  {
   "cell_type": "code",
   "execution_count": 4,
   "id": "fbab9323",
   "metadata": {},
   "outputs": [
    {
     "name": "stdout",
     "output_type": "stream",
     "text": [
      "{'seo': '010-1234-5678', 'kim': '010-2356-7856'}\n"
     ]
    }
   ],
   "source": [
    "print(pb)"
   ]
  },
  {
   "cell_type": "markdown",
   "id": "57beb108",
   "metadata": {},
   "source": [
    "## 위에서 저장된 변수에서 전화번호 중간 번호 4자리만 print하시오"
   ]
  },
  {
   "cell_type": "code",
   "execution_count": 11,
   "id": "92d6b585",
   "metadata": {},
   "outputs": [
    {
     "data": {
      "text/plain": [
       "'1234'"
      ]
     },
     "execution_count": 11,
     "metadata": {},
     "output_type": "execute_result"
    }
   ],
   "source": [
    "pb['seo'][4:8]"
   ]
  },
  {
   "cell_type": "markdown",
   "id": "2ba9f24a",
   "metadata": {},
   "source": [
    "## 주어진 과일이름(사과, 포도, 복숭아, 참외, 수박, 바나나)에 대해 fruits란 리스트를 만들고 각각을 format을 활용해 print 하시오"
   ]
  },
  {
   "cell_type": "code",
   "execution_count": 37,
   "id": "80f3c10a",
   "metadata": {},
   "outputs": [],
   "source": [
    "fruits = [\"사과\", \"포도\", \"복숭아\", \"참외\", \"수박\", \"바나나\"]"
   ]
  },
  {
   "cell_type": "code",
   "execution_count": 38,
   "id": "8e5fc976",
   "metadata": {},
   "outputs": [
    {
     "name": "stdout",
     "output_type": "stream",
     "text": [
      "사과, 포도, 복숭아, 참외, 수박, 바나나\n"
     ]
    }
   ],
   "source": [
    "print(f\"{fruits[0]}, {fruits[1]}, {fruits[2]}, {fruits[3]}, {fruits[4]}, {fruits[5]}\")"
   ]
  },
  {
   "cell_type": "code",
   "execution_count": 39,
   "id": "b6d2fccd",
   "metadata": {},
   "outputs": [
    {
     "name": "stdout",
     "output_type": "stream",
     "text": [
      "사과\n",
      "포도\n",
      "복숭아\n",
      "참외\n",
      "수박\n",
      "바나나\n"
     ]
    }
   ],
   "source": [
    "for i in fruits:\n",
    "    print(i)"
   ]
  },
  {
   "cell_type": "markdown",
   "id": "e1a806db",
   "metadata": {},
   "source": [
    "## fruits에서 복숭아와 바나나 값을 제거하고 멜론과 파인애플을 추가하시오"
   ]
  },
  {
   "cell_type": "code",
   "execution_count": 28,
   "id": "d86d6cba",
   "metadata": {
    "scrolled": true
   },
   "outputs": [
    {
     "data": {
      "text/plain": [
       "'복숭아'"
      ]
     },
     "execution_count": 28,
     "metadata": {},
     "output_type": "execute_result"
    }
   ],
   "source": [
    "fruits.pop(2)"
   ]
  },
  {
   "cell_type": "code",
   "execution_count": 29,
   "id": "f3e44daf",
   "metadata": {},
   "outputs": [
    {
     "data": {
      "text/plain": [
       "'바나나'"
      ]
     },
     "execution_count": 29,
     "metadata": {},
     "output_type": "execute_result"
    }
   ],
   "source": [
    "fruits.pop(4)"
   ]
  },
  {
   "cell_type": "code",
   "execution_count": 30,
   "id": "34558f4b",
   "metadata": {},
   "outputs": [
    {
     "data": {
      "text/plain": [
       "['사과', '포도', '참외', '수박']"
      ]
     },
     "execution_count": 30,
     "metadata": {},
     "output_type": "execute_result"
    }
   ],
   "source": [
    "fruits"
   ]
  },
  {
   "cell_type": "code",
   "execution_count": 31,
   "id": "b8721bdc",
   "metadata": {},
   "outputs": [],
   "source": [
    "fruits.append(\"멜론\")\n",
    "fruits.append(\"파인애플\")"
   ]
  },
  {
   "cell_type": "code",
   "execution_count": 32,
   "id": "a5d3e086",
   "metadata": {},
   "outputs": [
    {
     "data": {
      "text/plain": [
       "['사과', '포도', '참외', '수박', '멜론', '파인애플']"
      ]
     },
     "execution_count": 32,
     "metadata": {},
     "output_type": "execute_result"
    }
   ],
   "source": [
    "fruits"
   ]
  },
  {
   "cell_type": "markdown",
   "id": "c93b2800",
   "metadata": {},
   "source": [
    "## AI소프트웨어 학과 홈페이지를 들어가 교수님들의 연구실 위치를 키 값으로 하고 이에 대해 교수님들이름을 저장하고 Ai라고 변수명을 설정하시오"
   ]
  },
  {
   "cell_type": "code",
   "execution_count": 33,
   "id": "b98619c7",
   "metadata": {},
   "outputs": [],
   "source": [
    "AI = {\"김창균\" : \"516호\", \"이두호\" : \"506호\"}"
   ]
  },
  {
   "cell_type": "markdown",
   "id": "816bcae7",
   "metadata": {},
   "source": [
    "## 위의 문제에서 정의된 Ai변수에 명예교수님을 추가하시오 키값 없으므로 특정 번호로 추가"
   ]
  },
  {
   "cell_type": "code",
   "execution_count": 34,
   "id": "0ed3cac8",
   "metadata": {},
   "outputs": [],
   "source": [
    "## 위의 문제에서 정의된 Ai변수에 명예교수님을 추가하시오 키값 없으므로 특정 번호로 추가\n",
    "AI[\"501호\"] = \"서정원\""
   ]
  },
  {
   "cell_type": "code",
   "execution_count": 35,
   "id": "20960832",
   "metadata": {},
   "outputs": [
    {
     "data": {
      "text/plain": [
       "{'김창균': '516호', '이두호': '506호', '501호': '서정원'}"
      ]
     },
     "execution_count": 35,
     "metadata": {},
     "output_type": "execute_result"
    }
   ],
   "source": [
    "AI"
   ]
  },
  {
   "cell_type": "code",
   "execution_count": null,
   "id": "35db246e",
   "metadata": {},
   "outputs": [],
   "source": []
  }
 ],
 "metadata": {
  "kernelspec": {
   "display_name": "Python 3 (ipykernel)",
   "language": "python",
   "name": "python3"
  },
  "language_info": {
   "codemirror_mode": {
    "name": "ipython",
    "version": 3
   },
   "file_extension": ".py",
   "mimetype": "text/x-python",
   "name": "python",
   "nbconvert_exporter": "python",
   "pygments_lexer": "ipython3",
   "version": "3.9.13"
  }
 },
 "nbformat": 4,
 "nbformat_minor": 5
}
