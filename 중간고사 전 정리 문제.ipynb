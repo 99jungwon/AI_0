{
 "cells": [
  {
   "cell_type": "markdown",
   "metadata": {},
   "source": [
    "# 가상환경 공부하기"
   ]
  },
  {
   "cell_type": "markdown",
   "metadata": {
    "id": "UH86qe8ROgA2"
   },
   "source": [
    "## a라는 변수에 숫자 20을 할당하고, b라는 변수에 숫자 30을 할당해 a와 b의 합을 프린트하시오"
   ]
  },
  {
   "cell_type": "code",
   "execution_count": 1,
   "metadata": {
    "colab": {
     "base_uri": "https://localhost:8080/"
    },
    "id": "5iutb_zrOQB0",
    "outputId": "fcb031e0-630e-4e2d-dd5d-88cb335f41ae"
   },
   "outputs": [
    {
     "name": "stdout",
     "output_type": "stream",
     "text": [
      "a + b = 50\n"
     ]
    }
   ],
   "source": [
    "a = 20\n",
    "b = 30\n",
    "print(f\"a + b = {a + b}\")"
   ]
  },
  {
   "cell_type": "markdown",
   "metadata": {
    "id": "QHKJX5ghOfjr"
   },
   "source": [
    "## 아래의 문장을 변수에 저장하고 저장된 변수에서 인공지능이라는 단어만 프린트하시오\n",
    "\n",
    "*   안녕하세요 인공지능 수업에 오신것을 환영합니다. "
   ]
  },
  {
   "cell_type": "code",
   "execution_count": 2,
   "metadata": {
    "colab": {
     "base_uri": "https://localhost:8080/",
     "height": 35
    },
    "id": "LE7FlhLkOP_X",
    "outputId": "34aae0b1-f1e9-4bb7-b5f4-8f6c750c25b0"
   },
   "outputs": [],
   "source": [
    "AI = \"안녕하세요 인공지능 수업에 오신것을 환영합니다.\""
   ]
  },
  {
   "cell_type": "code",
   "execution_count": 6,
   "metadata": {},
   "outputs": [
    {
     "name": "stdout",
     "output_type": "stream",
     "text": [
      "인공지능\n"
     ]
    }
   ],
   "source": [
    "print(AI[6:10])"
   ]
  },
  {
   "cell_type": "markdown",
   "metadata": {
    "id": "YyOPq28gPFa2"
   },
   "source": [
    "## 특정 문자를 입력받아 변수로 저장하는 방법으로 자신의 이름을 입력후 저장하고, 아래의 문장과 같이 format을 사용해 프린트 하시오"
   ]
  },
  {
   "cell_type": "code",
   "execution_count": 8,
   "metadata": {
    "colab": {
     "base_uri": "https://localhost:8080/"
    },
    "id": "vR-ZST6kOP8p",
    "outputId": "4eaa84ed-8ec3-4a5d-978e-1bf606479892"
   },
   "outputs": [
    {
     "name": "stdout",
     "output_type": "stream",
     "text": [
      "이름을 입력해주세요: 서정원\n",
      "안녕하세요 서정원님 인공지능 수업에 오신것을 환영합니다.\n"
     ]
    }
   ],
   "source": [
    "name = input(\"이름을 입력해주세요: \")\n",
    "print(f\"안녕하세요 {name}님 인공지능 수업에 오신것을 환영합니다.\")"
   ]
  },
  {
   "cell_type": "markdown",
   "metadata": {
    "id": "P4qBWf5nPxnk"
   },
   "source": [
    "# 아래의 값들을 하나의 리스트에 저장하고, 리스트를 프린트하시오\n",
    "\n",
    "\n",
    "*   1,5,5,7,3,6,88,12,5,74,4,8,64,2,7,89,33,1,6,8,1,5,6,7\n"
   ]
  },
  {
   "cell_type": "code",
   "execution_count": 9,
   "metadata": {
    "colab": {
     "base_uri": "https://localhost:8080/"
    },
    "id": "xpNvlAPjOP5l",
    "outputId": "2daac6df-5860-4cac-b78a-15db899bb2be"
   },
   "outputs": [
    {
     "name": "stdout",
     "output_type": "stream",
     "text": [
      "[1, 5, 5, 7, 3, 6, 88, 12, 5, 74, 4, 8, 64, 2, 7, 89, 33, 1, 6, 8, 1, 5, 6, 7]\n"
     ]
    }
   ],
   "source": [
    "num = [1,5,5,7,3,6,88,12,5,74,4,8,64,2,7,89,33,1,6,8,1,5,6,7]\n",
    "print(num)"
   ]
  },
  {
   "cell_type": "markdown",
   "metadata": {
    "id": "XZKVY-RKQFXs"
   },
   "source": [
    "# 위에서 저장된 리스트 값중 88에 해당하는 리스트의 위치 index를 도출하시오"
   ]
  },
  {
   "cell_type": "code",
   "execution_count": 10,
   "metadata": {
    "colab": {
     "base_uri": "https://localhost:8080/"
    },
    "id": "XATdVchKOP2z",
    "outputId": "8d2bcef0-66ae-48ac-ad2f-b6bd91cb29c4"
   },
   "outputs": [
    {
     "data": {
      "text/plain": [
       "88"
      ]
     },
     "execution_count": 10,
     "metadata": {},
     "output_type": "execute_result"
    }
   ],
   "source": [
    "num[6]"
   ]
  },
  {
   "cell_type": "markdown",
   "metadata": {
    "id": "IeCbj6RdS7XI"
   },
   "source": [
    "## 주어진 이름 Jone-30, Park-30, Kim-20, Lee-10, Oh-32, Kang-25을 name이란 리스트를 만들고 Lee를 가진 사람의 성만 따로 도출하시오"
   ]
  },
  {
   "cell_type": "code",
   "execution_count": 13,
   "metadata": {
    "colab": {
     "base_uri": "https://localhost:8080/",
     "height": 35
    },
    "id": "i39jh9MTS9es",
    "outputId": "bcca344a-485c-4966-bf05-5f48053cadea"
   },
   "outputs": [
    {
     "name": "stdout",
     "output_type": "stream",
     "text": [
      "Lee-10\n"
     ]
    }
   ],
   "source": [
    "name = [\"Jone-30\", \"Park-30\", \"Kim-20\", \"Lee-10\", \"Oh-32\", \"Kang-25\"]\n",
    "for i in name:\n",
    "    if \"Lee\" in i:\n",
    "        print(i)"
   ]
  },
  {
   "cell_type": "markdown",
   "metadata": {
    "id": "cnrO1vz2R4K9"
   },
   "source": [
    "## 주어진 이름 Jone-30, Park-30, Kim-20, Lee-10, Oh-32, Kang-25 을 name이란 리스트를 만들고 리스트의 형태를 Jone/30 ....  와 같이 모두 변경하고 프린트하시오"
   ]
  },
  {
   "cell_type": "code",
   "execution_count": 31,
   "metadata": {
    "colab": {
     "base_uri": "https://localhost:8080/"
    },
    "id": "Y_9vKC0ER35o",
    "outputId": "c048a476-74ce-467a-b5cb-a046315de646",
    "scrolled": true
   },
   "outputs": [
    {
     "data": {
      "text/plain": [
       "['Jone/30', 'Park/30', 'Kim/20', 'Lee/10', 'Oh/32', 'Kang/25']"
      ]
     },
     "execution_count": 31,
     "metadata": {},
     "output_type": "execute_result"
    }
   ],
   "source": [
    "name = [\"Jone-30\", \"Park-30\", \"Kim-20\", \"Lee-10\", \"Oh-32\", \"Kang-25\"]\n",
    "new_name = []\n",
    "for i in name:\n",
    "    new_name.append(i.replace(\"-\", \"/\"))\n",
    "new_name"
   ]
  },
  {
   "cell_type": "markdown",
   "metadata": {
    "id": "PPBQ6SaJTUP1"
   },
   "source": [
    "## 하나의 폴더에 아래와 같은 형식을 가진 파일들이 있다. 이때 jpg와 png파일만 뽑아 리스트로 프린트하시오 만약에 jpg와 png파일이 아닐 경우 아래와 같이 프린트하시오\n",
    "\n",
    "\n",
    "\n",
    "*   dog.png, dog2.png, dog3.jpg, test.pdf, file.py, homework.pptx, jpg.pptx, png2.pptx\n",
    "\n",
    "\n",
    "*   test.pdf은 jpg, png파일에 포함되지 않습니다.\n",
    "\n"
   ]
  },
  {
   "cell_type": "code",
   "execution_count": 19,
   "metadata": {},
   "outputs": [
    {
     "name": "stdout",
     "output_type": "stream",
     "text": [
      "png\n",
      "png\n",
      "jpg\n",
      "pdf\n",
      ".py\n",
      "ptx\n",
      "ptx\n",
      "ptx\n"
     ]
    }
   ],
   "source": [
    "for i in file:\n",
    "    print(i[-3:])"
   ]
  },
  {
   "cell_type": "code",
   "execution_count": 22,
   "metadata": {
    "scrolled": true
   },
   "outputs": [
    {
     "name": "stdout",
     "output_type": "stream",
     "text": [
      "test.pdf은 jpg, png파일에 포함되지 않습니다.\n",
      "file.py은 jpg, png파일에 포함되지 않습니다.\n",
      "homework.pptx은 jpg, png파일에 포함되지 않습니다.\n",
      "jpg.pptx은 jpg, png파일에 포함되지 않습니다.\n",
      "png2.pptx은 jpg, png파일에 포함되지 않습니다.\n",
      " \n",
      "['dog.png', 'dog2.png', 'dog3.jpg']\n"
     ]
    }
   ],
   "source": [
    "file = [\"dog.png\", \"dog2.png\", \"dog3.jpg\", \"test.pdf\", \"file.py\", \"homework.pptx\", \"jpg.pptx\", \"png2.pptx\"]\n",
    "jp = []\n",
    "for i in file:\n",
    "    if \"jpg\" in i[-3:] or \"png\" in i[-3:]:\n",
    "        jp.append(i)\n",
    "    else:\n",
    "        print(f\"{i}은 jpg, png파일에 포함되지 않습니다.\")\n",
    "\n",
    "print(\" \")\n",
    "print(jp)"
   ]
  },
  {
   "cell_type": "markdown",
   "metadata": {
    "id": "MVblcgXhQYI4"
   },
   "source": [
    "## 위의 리스트에서 50보다 큰 숫자들만 뽑아 하나의 리스트에 저장하고 프린트하고 50보다 작은 숫자들은 또다른 리스트에 저장하시오"
   ]
  },
  {
   "cell_type": "code",
   "execution_count": 24,
   "metadata": {
    "id": "gh9s8H0iOPwd"
   },
   "outputs": [
    {
     "name": "stdout",
     "output_type": "stream",
     "text": [
      "[88, 74, 64, 89]\n",
      "[1, 5, 5, 7, 3, 6, 12, 5, 4, 8, 2, 7, 33, 1, 6, 8, 1, 5, 6, 7]\n"
     ]
    }
   ],
   "source": [
    "num = [1,5,5,7,3,6,88,12,5,74,4,8,64,2,7,89,33,1,6,8,1,5,6,7]\n",
    "big = []\n",
    "small = []\n",
    "\n",
    "for i in num:\n",
    "    if i > 50:\n",
    "        big.append(i)\n",
    "    else:\n",
    "        small.append(i)\n",
    "        \n",
    "print(big)\n",
    "print(small)"
   ]
  },
  {
   "cell_type": "markdown",
   "metadata": {
    "id": "jeYQ5NsWRkcm"
   },
   "source": [
    "## 하나의 빈 리스트를 만들고 아래의 값을 넣었을때 양수이면 빈 리스트에 추가하고 음수이면 이를 무시해 양수만 저장되어 있는 리스트의 값들을 모두 더해 프린트해라(while, if, continue사용)\n",
    "\n",
    "\n",
    "*   20,50,51,6,74,2,67,-5,-10,-50,-56,-19,55"
   ]
  },
  {
   "cell_type": "code",
   "execution_count": 27,
   "metadata": {},
   "outputs": [
    {
     "name": "stdout",
     "output_type": "stream",
     "text": [
      "입력한 숫자의 모든 합은 : 325\n"
     ]
    }
   ],
   "source": [
    "num = [20,50,51,6,74,2,67,-5,-10,-50,-56,-19,55]\n",
    "plus = []\n",
    "minus = []\n",
    "\n",
    "i = 0\n",
    "while i < len(num):\n",
    "    if num[i] > 0:\n",
    "        plus.append(num[i])\n",
    "        i = i + 1\n",
    "    else:\n",
    "        minus.append(num[i])\n",
    "        i = i + 1\n",
    "\n",
    "print(f\"입력한 숫자의 모든 합은 : {sum(plus)}\")"
   ]
  },
  {
   "cell_type": "markdown",
   "metadata": {
    "id": "4Hb8q-jDXA18"
   },
   "source": [
    "## 3개의 값을 넣었을때 값들을 모두 제곱해 더한 결과를 도출하는 함수를 만드시오  "
   ]
  },
  {
   "cell_type": "code",
   "execution_count": 3,
   "metadata": {
    "colab": {
     "base_uri": "https://localhost:8080/"
    },
    "id": "OVWpgUUCXcRn",
    "outputId": "5b39f241-a836-4b6a-cdea-e4fef3ec797e"
   },
   "outputs": [
    {
     "name": "stdout",
     "output_type": "stream",
     "text": [
      "14\n"
     ]
    }
   ],
   "source": [
    "def cal(a, b, c):\n",
    "    print(f\"{(a**2 + b**2 + c**2)}\")\n",
    "\n",
    "cal(1, 2, 3)"
   ]
  },
  {
   "cell_type": "code",
   "execution_count": 20,
   "metadata": {
    "scrolled": true
   },
   "outputs": [
    {
     "name": "stdout",
     "output_type": "stream",
     "text": [
      "어서오세요 AI식당입니다.\n",
      "햄버거: 15000원\n",
      "피자: 22000원\n",
      "음료: 2000원\n",
      "감자튀김: 5000원\n",
      "구매하고싶은 품목을 선택해주세요 (or done to exit): 감자튀김\n",
      "------------------------------------------------------------\n",
      "구매하실 수량을 입력해주세요 : 5\n",
      "현재 총 구매 금액은 25000원 입니다.\n",
      "------------------------------------------------------------\n",
      "어서오세요 AI식당입니다.\n",
      "햄버거: 15000원\n",
      "피자: 22000원\n",
      "음료: 2000원\n",
      "감자튀김: 5000원\n",
      "구매하고싶은 품목을 선택해주세요 (or done to exit): done\n",
      "------------------------------------------------------------\n",
      "귀하의 총 구매 금액은 25000입니다.\n",
      "금액을 투입하세요 : 30000\n",
      "투입금액은 30000원이고, 거스름돈은 5000원입니다.\n",
      "감사합니다 안녕히가세요.\n"
     ]
    }
   ],
   "source": [
    "total = 0\n",
    "while True:\n",
    "    print(\"어서오세요 AI식당입니다.\")\n",
    "    print(\"햄버거: 15000원\")\n",
    "    print(\"피자: 22000원\")\n",
    "    print(\"음료: 2000원\")\n",
    "    print(\"감자튀김: 5000원\")\n",
    "    pick = input(\"구매하고싶은 품목을 선택해주세요 (or done to exit): \")\n",
    "    print(\"------------------------------------------------------------\")\n",
    "    \n",
    "    if pick == \"햄버거\":\n",
    "        count = int(input(\"구매하실 수량을 입력해주세요 : \"))\n",
    "        total = total + (count * 15000)\n",
    "        print(f\"현재 총 구매 금액은 {total}원 입니다.\")\n",
    "        print(\"------------------------------------------------------------\")\n",
    "    elif pick == \"피자\":\n",
    "        count = int(input(\"구매하실 수량을 입력해주세요 : \"))\n",
    "        total = total + (count * 22000)\n",
    "        print(f\"현재 총 구매 금액은 {total}원 입니다.\")\n",
    "        print(\"------------------------------------------------------------\")\n",
    "    elif pick == \"음료\":\n",
    "        count = int(input(\"구매하실 수량을 입력해주세요 : \"))\n",
    "        total = total + (count * 2000)\n",
    "        print(f\"현재 총 구매 금액은 {total}원 입니다.\")\n",
    "        print(\"------------------------------------------------------------\")\n",
    "    elif pick == \"감자튀김\":\n",
    "        count = int(input(\"구매하실 수량을 입력해주세요 : \"))\n",
    "        total = total + (count * 5000)\n",
    "        print(f\"현재 총 구매 금액은 {total}원 입니다.\")\n",
    "        print(\"------------------------------------------------------------\")\n",
    "    elif pick == \"done\":\n",
    "        print(f\"귀하의 총 구매 금액은 {total}입니다.\")\n",
    "        while True:\n",
    "            pay = int(input(\"금액을 투입하세요 : \"))\n",
    "            if pay >= total:\n",
    "                print(f\"투입금액은 {pay}원이고, 거스름돈은 {pay - total}원입니다.\")\n",
    "                print(\"감사합니다 안녕히가세요.\")\n",
    "                break\n",
    "            else:\n",
    "                print(\"투입금액이 부족합니다.\")\n",
    "        break\n",
    "    else:\n",
    "        print(\"잘못 입력하셨습니다. 다시 입력해주세요\")"
   ]
  },
  {
   "cell_type": "code",
   "execution_count": 2,
   "metadata": {},
   "outputs": [
    {
     "data": {
      "text/plain": [
       "15000"
      ]
     },
     "execution_count": 2,
     "metadata": {},
     "output_type": "execute_result"
    }
   ],
   "source": [
    "menu = {\n",
    "    \"햄버거\": 15000,\n",
    "    \"피자\": 22000,\n",
    "    \"음료\": 2000,\n",
    "    \"감자튀김\": 5000\n",
    "}\n",
    "menu[\"햄버거\"]"
   ]
  },
  {
   "cell_type": "code",
   "execution_count": 3,
   "metadata": {},
   "outputs": [
    {
     "name": "stdout",
     "output_type": "stream",
     "text": [
      "어서오세요 AI 식당입니다.\n",
      "------------------------------------------------------------\n",
      "햄버거: 15000원\n",
      "피자: 22000원\n",
      "음료: 2000원\n",
      "감자튀김: 5000원\n",
      "구매하고싶은 품목을 선택해주세요 (or done to exit): 감자튀김\n",
      "구매하실 수량을 입력해주세요 : 5\n",
      "현재 총 구매 금액은 25000원 입니다.\n",
      "------------------------------------------------------------\n",
      "햄버거: 15000원\n",
      "피자: 22000원\n",
      "음료: 2000원\n",
      "감자튀김: 5000원\n",
      "구매하고싶은 품목을 선택해주세요 (or done to exit): 120000\n",
      "잘못된 입력입니다. 다시 입력해주세요.\n",
      "------------------------------------------------------------\n",
      "햄버거: 15000원\n",
      "피자: 22000원\n",
      "음료: 2000원\n",
      "감자튀김: 5000원\n",
      "구매하고싶은 품목을 선택해주세요 (or done to exit): done\n",
      "귀하의 총 구매금액은 :25000원 입니다.\n",
      "금액을 투입하세요 : 123000\n",
      "투입금액은 123000원 이고, 거스름돈은 98000원 입니다.\n",
      "감사합니다 안녕히 가세요\n"
     ]
    }
   ],
   "source": [
    "menu = {\n",
    "    \"햄버거\": 15000,\n",
    "    \"피자\": 22000,\n",
    "    \"음료\": 2000,\n",
    "    \"감자튀김\": 5000\n",
    "}\n",
    "\n",
    "total_price = 0\n",
    "\n",
    "print(\"어서오세요 AI 식당입니다.\")\n",
    "while True:\n",
    "    print(\"------------------------------------------------------------\")\n",
    "    print(\"햄버거: 15000원\")\n",
    "    print(\"피자: 22000원\")\n",
    "    print(\"음료: 2000원\")\n",
    "    print(\"감자튀김: 5000원\")\n",
    "    order = input(\"구매하고싶은 품목을 선택해주세요 (or done to exit): \")\n",
    "    if order == \"done\":\n",
    "        break\n",
    "    elif order in menu:\n",
    "        count = int(input(\"구매하실 수량을 입력해주세요 : \"))\n",
    "        total_price += menu[order] * count\n",
    "        print(f\"현재 총 구매 금액은 {total_price}원 입니다.\")\n",
    "    else:\n",
    "        print(\"잘못된 입력입니다. 다시 입력해주세요.\")\n",
    "\n",
    "payment = int(input(\"귀하의 총 구매금액은 :{}원 입니다.\\n금액을 투입하세요 : \".format(total_price)))\n",
    "change = payment - total_price\n",
    "\n",
    "print(\"투입금액은 {}원 이고, 거스름돈은 {}원 입니다.\".format(payment, change))\n",
    "print(\"감사합니다 안녕히 가세요\")"
   ]
  },
  {
   "cell_type": "code",
   "execution_count": null,
   "metadata": {
    "colab": {
     "base_uri": "https://localhost:8080/"
    },
    "id": "_Ex1mhEElWfo",
    "outputId": "5846a331-400d-47f9-e4bb-dc0b32d257c5"
   },
   "outputs": [
    {
     "name": "stdout",
     "output_type": "stream",
     "text": [
      "어서오세요 AI 식당입니다.\n",
      "햄버거: 15000원\n",
      "피자: 22000원\n",
      "음료: 2000원\n",
      "감자튀김: 5000원\n",
      "구매하고싶은 품목을 선택해주세요 (or done to exit): 감자튀김\n",
      "------------------------------------------------------------\n",
      "구매하실 수량을 입력해주세요 : 4\n",
      "현재 총 구매 금액은 20000원 입니다.\n",
      "------------------------------------------------------------\n",
      "구매하고싶은 품목을 선택해주세요 (or done to exit):\n",
      "------------------------------------------------------------\n",
      "햄버거: 15000원\n",
      "피자: 22000원\n",
      "음료: 2000원\n",
      "감자튀김: 5000원\n",
      "구매하고싶은 품목을 선택해주세요 (or done to exit): 음료\n",
      "------------------------------------------------------------\n",
      "구매하실 수량을 입력해주세요 : 5\n",
      "현재 총 구매 금액은 30000원 입니다.\n",
      "------------------------------------------------------------\n",
      "구매하고싶은 품목을 선택해주세요 (or done to exit):\n",
      "------------------------------------------------------------\n",
      "햄버거: 15000원\n",
      "피자: 22000원\n",
      "음료: 2000원\n",
      "감자튀김: 5000원\n",
      "구매하고싶은 품목을 선택해주세요 (or done to exit): done\n",
      "------------------------------------------------------------\n",
      "귀하의 총 구매금액은 :30000원 입니다.\n",
      "금액을 투입하세요 : 450000\n",
      "투입금액은 450000원 이고, 거스름돈은 420000원 입니다.\n",
      "감사합니다 안녕히 가세요\n"
     ]
    }
   ],
   "source": []
  },
  {
   "cell_type": "markdown",
   "metadata": {
    "id": "SwHw68cYGIjn"
   },
   "source": [
    "## 액정 파손 -10000, 카메라 문제 -50000, 터치불량 -10000 이라 할때 핸드폰 가격을 입력했을 때 조건에 따라 가격을 책정해주는 함수를 만드시오"
   ]
  },
  {
   "cell_type": "code",
   "execution_count": 25,
   "metadata": {
    "id": "Syec69V6zOQj"
   },
   "outputs": [],
   "source": [
    "def phone(price, a=None, b=None, c=None):\n",
    "    count = 0\n",
    "    if a == \"액정파손\":\n",
    "        count += 10000\n",
    "    if b == \"카메라 문제\":\n",
    "        count += 50000\n",
    "    if c == \"터치불량\":\n",
    "        count += 10000\n",
    "    total = price - count\n",
    "    return total"
   ]
  },
  {
   "cell_type": "code",
   "execution_count": 27,
   "metadata": {},
   "outputs": [
    {
     "data": {
      "text/plain": [
       "40000"
      ]
     },
     "execution_count": 27,
     "metadata": {},
     "output_type": "execute_result"
    }
   ],
   "source": [
    "phone(a = \"액정파손\", price = 50000)"
   ]
  },
  {
   "cell_type": "markdown",
   "metadata": {
    "id": "Q0cpJmS0JAMs"
   },
   "source": [
    "## 위의 문제를 함수에 *args를 써서 액정파손, 카메라 문제, 터치불량에 대해 가격을 책정할 수 있게 만드시오"
   ]
  },
  {
   "cell_type": "code",
   "execution_count": 28,
   "metadata": {
    "id": "FgKBkV1f0WeK"
   },
   "outputs": [],
   "source": [
    "def phone(*args, price):\n",
    "    count = 0\n",
    "    for arg in args:\n",
    "        if arg == \"액정파손\":\n",
    "            count += 10000\n",
    "        elif arg == \"카메라 문제\":\n",
    "            count += 50000\n",
    "        elif arg == \"터치불량\":\n",
    "            count += 10000\n",
    "    total = price - count\n",
    "    return total"
   ]
  },
  {
   "cell_type": "code",
   "execution_count": 29,
   "metadata": {
    "colab": {
     "base_uri": "https://localhost:8080/"
    },
    "id": "6V5sVTAZQGZe",
    "outputId": "595cbd3f-077b-44f3-ee10-0b9227bf8205"
   },
   "outputs": [
    {
     "data": {
      "text/plain": [
       "440000"
      ]
     },
     "execution_count": 29,
     "metadata": {},
     "output_type": "execute_result"
    }
   ],
   "source": [
    "phone(\"액정파손\",\"카메라 문제\", price=500000)"
   ]
  },
  {
   "cell_type": "code",
   "execution_count": null,
   "metadata": {},
   "outputs": [],
   "source": []
  }
 ],
 "metadata": {
  "colab": {
   "provenance": []
  },
  "kernelspec": {
   "display_name": "Python 3 (ipykernel)",
   "language": "python",
   "name": "python3"
  },
  "language_info": {
   "codemirror_mode": {
    "name": "ipython",
    "version": 3
   },
   "file_extension": ".py",
   "mimetype": "text/x-python",
   "name": "python",
   "nbconvert_exporter": "python",
   "pygments_lexer": "ipython3",
   "version": "3.9.13"
  }
 },
 "nbformat": 4,
 "nbformat_minor": 1
}
